{
 "cells": [
  {
   "cell_type": "code",
   "execution_count": 1,
   "id": "c0a991a1",
   "metadata": {},
   "outputs": [
    {
     "ename": "ModuleNotFoundError",
     "evalue": "No module named 'paraview'",
     "output_type": "error",
     "traceback": [
      "\u001b[0;31m---------------------------------------------------------------------------\u001b[0m",
      "\u001b[0;31mModuleNotFoundError\u001b[0m                       Traceback (most recent call last)",
      "Cell \u001b[0;32mIn [1], line 1\u001b[0m\n\u001b[0;32m----> 1\u001b[0m \u001b[38;5;28;01mfrom\u001b[39;00m \u001b[38;5;21;01mparaview\u001b[39;00m\u001b[38;5;21;01m.\u001b[39;00m\u001b[38;5;21;01mvtk\u001b[39;00m\u001b[38;5;21;01m.\u001b[39;00m\u001b[38;5;21;01mnumpy_interface\u001b[39;00m \u001b[38;5;28;01mimport\u001b[39;00m dataset_adapter \u001b[38;5;28;01mas\u001b[39;00m dsa\n",
      "\u001b[0;31mModuleNotFoundError\u001b[0m: No module named 'paraview'"
     ]
    }
   ],
   "source": [
    "from paraview.vtk.numpy_interface import dataset_adapter as dsa"
   ]
  },
  {
   "cell_type": "code",
   "execution_count": 2,
   "id": "0c6c289d",
   "metadata": {},
   "outputs": [
    {
     "ename": "ModuleNotFoundError",
     "evalue": "No module named 'enthought'",
     "output_type": "error",
     "traceback": [
      "\u001b[0;31m---------------------------------------------------------------------------\u001b[0m",
      "\u001b[0;31mModuleNotFoundError\u001b[0m                       Traceback (most recent call last)",
      "Cell \u001b[0;32mIn [2], line 2\u001b[0m\n\u001b[1;32m      1\u001b[0m \u001b[38;5;28;01mimport\u001b[39;00m \u001b[38;5;21;01mnumpy\u001b[39;00m \u001b[38;5;28;01mas\u001b[39;00m \u001b[38;5;21;01mnp\u001b[39;00m\n\u001b[0;32m----> 2\u001b[0m \u001b[38;5;28;01mfrom\u001b[39;00m \u001b[38;5;21;01menthought\u001b[39;00m\u001b[38;5;21;01m.\u001b[39;00m\u001b[38;5;21;01mtvtk\u001b[39;00m\u001b[38;5;21;01m.\u001b[39;00m\u001b[38;5;21;01mapi\u001b[39;00m \u001b[38;5;28;01mimport\u001b[39;00m tvtk, write_data\n\u001b[1;32m      4\u001b[0m data \u001b[38;5;241m=\u001b[39m np\u001b[38;5;241m.\u001b[39mrandom\u001b[38;5;241m.\u001b[39mrandom((\u001b[38;5;241m10\u001b[39m,\u001b[38;5;241m10\u001b[39m,\u001b[38;5;241m10\u001b[39m))\n\u001b[1;32m      6\u001b[0m grid \u001b[38;5;241m=\u001b[39m tvtk\u001b[38;5;241m.\u001b[39mImageData(spacing\u001b[38;5;241m=\u001b[39m(\u001b[38;5;241m10\u001b[39m, \u001b[38;5;241m5\u001b[39m, \u001b[38;5;241m-\u001b[39m\u001b[38;5;241m10\u001b[39m), origin\u001b[38;5;241m=\u001b[39m(\u001b[38;5;241m100\u001b[39m, \u001b[38;5;241m350\u001b[39m, \u001b[38;5;241m200\u001b[39m), \n\u001b[1;32m      7\u001b[0m                       dimensions\u001b[38;5;241m=\u001b[39mdata\u001b[38;5;241m.\u001b[39mshape)\n",
      "\u001b[0;31mModuleNotFoundError\u001b[0m: No module named 'enthought'"
     ]
    }
   ],
   "source": [
    "import numpy as np\n",
    "from enthought.tvtk.api import tvtk, write_data\n",
    "\n",
    "data = np.random.random((10,10,10))\n",
    "\n",
    "grid = tvtk.ImageData(spacing=(10, 5, -10), origin=(100, 350, 200), \n",
    "                      dimensions=data.shape)\n",
    "grid.point_data.scalars = np.ravel(order='F')\n",
    "grid.point_data.scalars.name = 'Test Data'\n",
    "\n",
    "# Writes legacy \".vtk\" format if filename ends with \"vtk\", otherwise\n",
    "# this will write data using the newer xml-based format.\n",
    "write_data(grid, 'test.vtk')"
   ]
  },
  {
   "cell_type": "code",
   "execution_count": 4,
   "id": "dfb881d4",
   "metadata": {},
   "outputs": [],
   "source": [
    "def numpyToVTK(data):\n",
    "    data_type = vtk.VTK_FLOAT\n",
    "    shape = data.shape\n",
    "\n",
    "    flat_data_array = data.flatten()\n",
    "    vtk_data = numpy_support.numpy_to_vtk(num_array=flat_data_array, deep=True, array_type=data_type)\n",
    "    \n",
    "    img = vtk.vtkImageData()\n",
    "    img.GetPointData().SetScalars(vtk_data)\n",
    "    img.SetDimensions(shape[0], shape[1], shape[2])\n",
    "    return img"
   ]
  },
  {
   "cell_type": "code",
   "execution_count": 5,
   "id": "f3d90c68",
   "metadata": {},
   "outputs": [
    {
     "ename": "NameError",
     "evalue": "name 'density' is not defined",
     "output_type": "error",
     "traceback": [
      "\u001b[0;31m---------------------------------------------------------------------------\u001b[0m",
      "\u001b[0;31mNameError\u001b[0m                                 Traceback (most recent call last)",
      "Cell \u001b[0;32mIn [5], line 1\u001b[0m\n\u001b[0;32m----> 1\u001b[0m numpyToVTK(\u001b[43mdensity\u001b[49m)\n",
      "\u001b[0;31mNameError\u001b[0m: name 'density' is not defined"
     ]
    }
   ],
   "source": [
    "numpyToVTK(density)"
   ]
  },
  {
   "cell_type": "code",
   "execution_count": 3,
   "id": "b4a846e9",
   "metadata": {},
   "outputs": [],
   "source": [
    "import vtk"
   ]
  },
  {
   "cell_type": "code",
   "execution_count": null,
   "id": "34f49ff3",
   "metadata": {},
   "outputs": [],
   "source": []
  }
 ],
 "metadata": {
  "kernelspec": {
   "display_name": "Python 3 (ipykernel)",
   "language": "python",
   "name": "python3"
  },
  "language_info": {
   "codemirror_mode": {
    "name": "ipython",
    "version": 3
   },
   "file_extension": ".py",
   "mimetype": "text/x-python",
   "name": "python",
   "nbconvert_exporter": "python",
   "pygments_lexer": "ipython3",
   "version": "3.9.12"
  }
 },
 "nbformat": 4,
 "nbformat_minor": 5
}
