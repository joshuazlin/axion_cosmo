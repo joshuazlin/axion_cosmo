{
 "cells": [
  {
   "cell_type": "code",
   "execution_count": 64,
   "id": "3a06ee58",
   "metadata": {},
   "outputs": [],
   "source": [
    "import numpy as np\n",
    "import scipy\n",
    "import pickle\n",
    "import time\n",
    "import tqdm\n",
    "import h5py"
   ]
  },
  {
   "cell_type": "code",
   "execution_count": 334,
   "id": "68a27f88",
   "metadata": {
    "code_folding": []
   },
   "outputs": [],
   "source": [
    "\"\"\"\n",
    "params\n",
    "\"\"\"\n",
    "\n",
    "def R(gstar,T):\n",
    "    \"\"\"\n",
    "    (S46), dimensionless. \n",
    "    \"\"\"\n",
    "    return 3.699e-10*(gstar**(-1/3))/T\n",
    "\n",
    "def H(gstar,T):\n",
    "    \"\"\"\n",
    "    (S44), and https://physics.nist.gov/cgi-bin/cuu/Value?plkmc2gev\n",
    "    \"\"\"\n",
    "    return 1.660*(gstar**(1/2))*(T**2)/1.220890e22\n",
    "\n",
    "def t(eta,t1):\n",
    "    \"\"\"\n",
    "    (S6)\n",
    "    \"\"\"\n",
    "    return (eta**2)*(t1)\n",
    "\n",
    "def t_T(gstar,T):\n",
    "    \"\"\"\n",
    "    (S45)\n",
    "    \"\"\"\n",
    "    return 0.3012*(gstar**(-1/2))*1.220890e22/(T**2)\n",
    "\n",
    "def T(gstar,t):\n",
    "    \"\"\"\n",
    "    S(45)\n",
    "    \"\"\"\n",
    "    return (0.3012*(gstar**(-1/2))*1.220890e22/t)**(1/2)\n",
    "\n",
    "def init_params(fa,gstar):\n",
    "    \"\"\"\n",
    "    these ARENT where you initialize, these are at eta = 1\n",
    "    \"\"\"\n",
    "    T1_PQ = (fa*1.220890e22/(1.660*(gstar**(1/2))))**(1/2)\n",
    "    H1_PQ = H(gstar,T1_PQ)\n",
    "    R1_PQ = R(gstar,T1_PQ)\n",
    "    t1_PQ = t_T(gstar,T1_PQ)\n",
    "    \n",
    "    #mpi = 139.570\n",
    "    #fpi = 130\n",
    "    #mu = 2.2; md = 4.7;\n",
    "    #ma = ((mpi**2*fpi**2)/fa**2)*((mu*md)/(mu+md)**2)\n",
    "    ma = 5.707e3/fa\n",
    "    \n",
    "    Tc     = (1.68e-7*((400)**(4+6.68))/((fa**2*ma**2)))**(1/6.68)\n",
    "    T1_QCD = (((1.68e-7)**(1/2)*(400)**(2+6.68/2)*1.220890e22)/(fa*1.660*gstar**(1/2)))**(1/(2+6.68/2))\n",
    "    R1_QCD = R(gstar,T1_QCD)\n",
    "    etac   = R(gstar,Tc)/R1_QCD\n",
    "    \n",
    "    return T1_PQ,H1_PQ,R1_PQ,t1_PQ,ma,Tc,T1_QCD,R1_QCD,etac"
   ]
  },
  {
   "cell_type": "code",
   "execution_count": 329,
   "id": "72a63924",
   "metadata": {},
   "outputs": [],
   "source": [
    "#Checking init params\n",
    "fa = 2.27e14\n",
    "#Tc ~ 100\n",
    "#ma ~ 25 microeV\n",
    "#etac ~ 2.8 -> 3.6\n",
    "T1_PQ,H1_PQ,R1_PQ,t1_PQ,ma,Tc,T1_QCD,R1_QCD,etac = init_params(2.27e14,81)\n",
    "\n",
    "#T_PQ ~ np.sqrt(3) f_a, but this suggests a phase transition at roughly eta ~ 1100\n",
    "#np.log(T(81,t(280,t1))) ~ np.log((3)**(1/2)*2.27e14)"
   ]
  },
  {
   "cell_type": "code",
   "execution_count": 333,
   "id": "4a3b6d91",
   "metadata": {},
   "outputs": [
    {
     "data": {
      "text/plain": [
       "33.601125091490744"
      ]
     },
     "execution_count": 333,
     "metadata": {},
     "output_type": "execute_result"
    }
   ],
   "source": [
    "np.log(T(81,t(1100,t1_PQ)))"
   ]
  },
  {
   "cell_type": "code",
   "execution_count": 331,
   "id": "59c454b7",
   "metadata": {},
   "outputs": [
    {
     "data": {
      "text/plain": [
       "33.60527727774401"
      ]
     },
     "execution_count": 331,
     "metadata": {},
     "output_type": "execute_result"
    }
   ],
   "source": [
    "np.log((3)**(1/2)*2.27e14)"
   ]
  },
  {
   "cell_type": "code",
   "execution_count": 316,
   "id": "20a0b785",
   "metadata": {},
   "outputs": [
    {
     "data": {
      "text/plain": [
       "<matplotlib.image.AxesImage at 0x147697400>"
      ]
     },
     "execution_count": 316,
     "metadata": {},
     "output_type": "execute_result"
    },
    {
     "data": {
      "image/png": "[encoded data removed]",
      "text/plain": [
       "<Figure size 640x480 with 1 Axes>"
      ]
     },
     "metadata": {},
     "output_type": "display_data"
    }
   ],
   "source": [
    "plt.imshow(np.random.random((20,20)))"
   ]
  },
  {
   "cell_type": "code",
   "execution_count": null,
   "id": "e3140425",
   "metadata": {},
   "outputs": [],
   "source": [
    "plt.hist2d(phi1_x_.flatten(),phi2_x_.flatten())"
   ]
  },
  {
   "cell_type": "code",
   "execution_count": 314,
   "id": "57ce3b14",
   "metadata": {},
   "outputs": [
    {
     "data": {
      "text/plain": [
       "34.96940094710796"
      ]
     },
     "execution_count": 314,
     "metadata": {},
     "output_type": "execute_result"
    }
   ],
   "source": [
    "np.log(T(81,t(280,t1)))"
   ]
  },
  {
   "cell_type": "code",
   "execution_count": 258,
   "id": "5349e53f",
   "metadata": {},
   "outputs": [
    {
     "data": {
      "text/plain": [
       "6.981295951233274e+21"
      ]
     },
     "execution_count": 258,
     "metadata": {},
     "output_type": "execute_result"
    }
   ],
   "source": [
    "fa**2/(3*T1_QCD**2)"
   ]
  },
  {
   "cell_type": "code",
   "execution_count": 192,
   "id": "4c44002e",
   "metadata": {
    "code_folding": [
     4,
     11,
     42,
     72,
     81
    ]
   },
   "outputs": [],
   "source": [
    "\"\"\"\n",
    "evolve_utils\n",
    "\"\"\"\n",
    "\n",
    "def RK4(f,t,y,h):\n",
    "    k1 = f(t,y)\n",
    "    k2 = f(t+h/2,y+h*k1/2)\n",
    "    k3 = f(t+h/2,y+h*k2/2)\n",
    "    k4 = f(t+h,y+h*k3)\n",
    "    return y + (1/6)*(k1+2*k2+2*k3+k4)*h\n",
    "\n",
    "def grad(field,dir,order,N):\n",
    "    \"\"\"\n",
    "    take derivative of a field, in a specific direction,\n",
    "    with some number of points included (stencil number)\n",
    "    This is a cheap-imitation of something that would use non-axis points \n",
    "    https://web.media.mit.edu/~crtaylor/calculator.html\n",
    "    Probably thats what they meant by seven-point stencil though, the (2,3) scheme I wrote below\n",
    "\n",
    "    Inputs:\n",
    "        field: real numpy array\n",
    "        dir: axis to compute\n",
    "        order: order of derivative to compute\n",
    "        N: number of points to include\n",
    "    \"\"\"\n",
    "    \n",
    "    if (order,N) == (2,3):\n",
    "        return (np.roll(field,-1,axis=dir) + \\\n",
    "               -2*np.roll(field,-1,axis=dir) + \\\n",
    "               np.roll(field,1,axis=dir))\n",
    "    if (order,N) == (2,7):\n",
    "        return (2*np.roll(field,-3,axis=dir) + \\\n",
    "               -27*np.roll(field,-2,axis=dir) + \\\n",
    "               270*np.roll(field,-1,axis=dir) + \\\n",
    "               -490*field + \\\n",
    "               270*np.roll(field,1,axis=dir) + \\\n",
    "               -27*np.roll(field,2,axis=dir) + \\\n",
    "               2*np.roll(field,3,axis=dir))/180\n",
    "    else:\n",
    "        print(order,N)\n",
    "        raise NotImplementedError\n",
    "\n",
    "def rescaled_nabla(field,scale,N=3):\n",
    "    \"\"\"\n",
    "    take rescaled nabla^2 of a field (defined under (S8))\n",
    "    scale is \"a\"\n",
    "    \n",
    "    Inputs:\n",
    "        field: 2 x N x N (x N)\n",
    "    \"\"\"\n",
    "    n_space = len(field.shape) - 1\n",
    "    to_return = np.zeros(field.shape)\n",
    "    for i in range(1,n_space + 1):\n",
    "        to_return = to_return + grad(field,i,2,N)\n",
    "    return to_return*(scale**2)\n",
    "\n",
    "def PQ_epoch_diff(eta,field,fieldp,R1,T1,t1,fa,gstar,scale,lamb=1,debug=False):\n",
    "    \"\"\"\n",
    "    (S9) and (S10)\n",
    "    y'' = f(t,y,y'), this is that function f. (in the PQ epoch)\n",
    "    scale: L_phys (in units of a1H1) / L_lat (number of sites)\n",
    "    \"\"\"\n",
    "    A = -(2/eta)*fieldp \n",
    "    B = rescaled_nabla(field,scale)#R(gstar,T(gstar,t(eta,t1)))/R1) \n",
    "    C = -lamb*field*((eta**2)*(np.repeat(np.expand_dims(np.sum(field**2,axis=0),0),2,0) - 1) + (T1**2)/(3*fa**2))\n",
    "    #print(\"ABC\",np.average(A),np.average(B),np.average(C))\n",
    "    #print((T1**2)/(3*fa**2),(eta**2),R(gstar,T(gstar,t(eta,t1))),R1)\n",
    "    return A + B + C\n",
    "\n",
    "def earlyQCD_epoch_diff(eta,field,fieldp,scale,etac,lamb=5504,n=6.68,debug=False):\n",
    "    A = -(2/eta)*fieldp \n",
    "    B = rescaled_nabla(field,scale)\n",
    "    C = -lamb*field*(eta**2)*(np.repeat(np.expand_dims(np.sum(field**2,axis=0),0),2,0) - 1)\n",
    "    D0 = (min(eta,etac)**n)*(eta**2)*(np.sum(field**2,axis=0)**(-3/2))\n",
    "    D1 = -field[1]**2; D2 = field[0]*field[1]\n",
    "    D = np.vstack((D1/D0,D2/D0))\n",
    "    return A + B + C + D\n",
    "    \n",
    "def lateQCD_epoch_diff():\n",
    "    pass"
   ]
  },
  {
   "cell_type": "code",
   "execution_count": 263,
   "id": "46ac16d2",
   "metadata": {
    "code_folding": [
     4
    ]
   },
   "outputs": [],
   "source": [
    "\"\"\"\n",
    "evolve\n",
    "\"\"\"\n",
    "\n",
    "def evolve_PQ(shape,\n",
    "              fa, \n",
    "              init_field, \n",
    "              init_fieldp, \n",
    "              etaini,\n",
    "              deta, \n",
    "              Nstep,\n",
    "              scale,\n",
    "              stage,\n",
    "              name=None,\n",
    "              logdir=None,\n",
    "              tolog=[],\n",
    "              flush=100,\n",
    "              debug=False):\n",
    "    \"\"\"\n",
    "    Evolution in the PQ epoch\n",
    "\n",
    "    Inputs\n",
    "               shape : shape of spatial dims\n",
    "                  fa : axion decay constant ~ 2.27e14 MeV\n",
    "          init_field : fn that takes shape and spits out an initial config\n",
    "          init_field : fn that takes shape and spits out an initial config'\n",
    "              etaini : starting eta\n",
    "                deta : d_eta\n",
    "               Nstep : how many steps\n",
    "                name : name of logfile\n",
    "              logdir : where to save logfile\n",
    "               tolog : list containing [(\"name\",lambda f_fp: ..., how often to log this thing, shape of the thing, dtype),...]\n",
    "               flush : how often to flush the logs\n",
    "               debug : whether to print out semi-useless debug statements\n",
    "    \"\"\"\n",
    "    \n",
    "    T1_PQ,H1_PQ,R1_PQ,t1_PQ,ma,Tc,T1_QCD,R1_QCD,etac = init_params(fa,81)\n",
    "    field    = init_field(shape)            #Init field\n",
    "    fieldp   = init_fieldp(shape)           #and its derivative\n",
    "    y_yp     = np.vstack((field,fieldp))    #Stackem\n",
    "    eta      = etaini                       #initial eta\n",
    "    \n",
    "    for i in tqdm.tqdm(range(Nstep)):\n",
    "        if debug:\n",
    "            print(\"running\",i,np.average(np.abs(y_yp)))\n",
    "            time.sleep(1)\n",
    "\n",
    "        if i%flush == 0:\n",
    "            #print(f'{logdir}/{name}_{i//flush}.hdf5')\n",
    "            logfile = h5py.File(f'{logdir}/{name}_{i//flush}.hdf5', 'w')\n",
    "            datasets = []\n",
    "            for x in tolog:\n",
    "                datasets.append(logfile.create_dataset(x[0], (flush//x[2]+1,) + x[3], x[4]))\n",
    "\n",
    "        for j,x in enumerate(tolog):\n",
    "            if i%x[2] == 0:\n",
    "                datasets[j][(i%flush)//x[2]] = x[1](y_yp)\n",
    "\n",
    "        if i%flush == flush - 1:\n",
    "            logfile.flush()\n",
    "            logfile.close()\n",
    "        \n",
    "        if stage == 'PQ':\n",
    "            y_yp = RK4(lambda eta,y_yp : \\\n",
    "                   np.vstack((y_yp[2:],PQ_epoch_diff(eta,y_yp[:2],y_yp[2:],R1,T1,t1,fa,81,scale,debug=debug))),\n",
    "                   eta,y_yp,deta)\n",
    "        elif stage == 'earlyQCD':\n",
    "            pass\n",
    "        \n",
    "        eta += deta\n",
    "\n",
    "    return "
   ]
  },
  {
   "cell_type": "code",
   "execution_count": 264,
   "id": "dec7db6c",
   "metadata": {
    "code_folding": [
     4
    ]
   },
   "outputs": [],
   "source": [
    "\"\"\"\n",
    "Thermal \n",
    "\"\"\"\n",
    "\n",
    "def dummy_thermal(shape,eps=0.1):\n",
    "    assert type(shape) is tuple\n",
    "    return 2*eps*np.random.random((2,) + shape) - eps"
   ]
  },
  {
   "cell_type": "code",
   "execution_count": 538,
   "id": "da8afc93",
   "metadata": {},
   "outputs": [
    {
     "name": "stderr",
     "output_type": "stream",
     "text": [
      "100%|███████████████████████████████████████████████████████████████████████████████████████████████████████| 300000/300000 [02:06<00:00, 2363.66it/s]\n"
     ]
    }
   ],
   "source": [
    "f.close()\n",
    "evolve_PQ(shape=(10,10,10),\n",
    "          fa=2.27e14,\n",
    "          init_field=lambda shape: 10*np.random.random((2,10,10,10))-4,\n",
    "          init_fieldp=lambda shape: 10*np.random.random((2,10,10,10))-4,\n",
    "          etaini=100,\n",
    "          deta=0.001,\n",
    "          Nstep=300000,\n",
    "          scale=8,\n",
    "          stage='PQ',\n",
    "          name='test',\n",
    "          logdir='/Users/joshlin/axion_cosmo/notebooks/misc',\n",
    "          tolog=[(\"field\",lambda f_fp:f_fp,1,(4,10,10,10),np.float64),\n",
    "                 (\"vev\",lambda f_fp:np.average(np.sum(f_fp[:2]**2,axis=0)**(1/2)),1,(1,),np.float64)],\n",
    "         flush=300000,)"
   ]
  },
  {
   "cell_type": "code",
   "execution_count": 515,
   "id": "d42fe04d",
   "metadata": {},
   "outputs": [],
   "source": [
    "f = h5py.File('misc/test_0.hdf5','r')"
   ]
  },
  {
   "cell_type": "code",
   "execution_count": 528,
   "id": "307be079",
   "metadata": {},
   "outputs": [
    {
     "data": {
      "text/plain": [
       "(300001, 4, 10, 10, 10)"
      ]
     },
     "execution_count": 528,
     "metadata": {},
     "output_type": "execute_result"
    }
   ],
   "source": [
    "f['field'].shape"
   ]
  },
  {
   "cell_type": "code",
   "execution_count": 529,
   "id": "d3cd9b29",
   "metadata": {},
   "outputs": [
    {
     "data": {
      "text/plain": [
       "(array([ 55.,  59.,  87., 120., 196., 189., 106.,  90.,  60.,  38.]),\n",
       " array([-1.37759108, -1.10278903, -0.82798697, -0.55318492, -0.27838286,\n",
       "        -0.00358081,  0.27122125,  0.5460233 ,  0.82082536,  1.09562741,\n",
       "         1.37042947]),\n",
       " <BarContainer object of 10 artists>)"
      ]
     },
     "execution_count": 529,
     "metadata": {},
     "output_type": "execute_result"
    },
    {
     "data": {
      "image/png": "[encoded data removed]",
      "text/plain": [
       "<Figure size 640x480 with 1 Axes>"
      ]
     },
     "metadata": {},
     "output_type": "display_data"
    }
   ],
   "source": [
    "plt.hist(f['field'][100][0].flatten())"
   ]
  },
  {
   "cell_type": "code",
   "execution_count": 533,
   "id": "ad867521",
   "metadata": {},
   "outputs": [
    {
     "data": {
      "text/plain": [
       "array([-1.19136060e-04, -1.25610851e-05,  1.05107431e-04,  1.09867966e-04,\n",
       "       -1.04127432e-06, -1.08648902e-04, -9.98233014e-05,  1.38353345e-05,\n",
       "        1.10679030e-04,  8.91680867e-05, -2.57148167e-05, -1.11261885e-04,\n",
       "       -7.80659521e-05,  3.65906413e-05,  1.10475163e-04,  6.66763160e-05,\n",
       "       -4.63909910e-05, -1.08408450e-04, -5.51527171e-05,  5.50611620e-05,\n",
       "        1.05161454e-04,  4.36413156e-05, -6.25632188e-05, -1.00842218e-04,\n",
       "       -3.22795706e-05,  6.88754678e-05,  9.55653273e-05,  2.11950992e-05,\n",
       "       -7.39917674e-05, -8.94501599e-05, -1.05047209e-05,  7.79206908e-05,\n",
       "        8.26191667e-05,  3.13687552e-07, -8.06845615e-05, -7.51962244e-05,\n",
       "        9.28490320e-06,  8.23183810e-05,  6.73050643e-05, -1.82105136e-05,\n",
       "       -8.28686658e-05, -5.90677959e-05,  2.63953973e-05,  8.23922154e-05,\n",
       "        5.06035358e-05, -3.37846639e-05, -8.09548283e-05, -4.20271535e-05,\n",
       "        4.03361848e-05,  7.86299855e-05,  3.34481409e-05, -4.60203522e-05,\n",
       "       -7.54975185e-05, -2.49696134e-05,  5.08197011e-05,  7.16422798e-05,\n",
       "        1.66874448e-05, -5.47284084e-05, -6.71528303e-05, -8.68954122e-06,\n",
       "        5.77516811e-05,  6.21201589e-05,  1.05525193e-06, -5.99050481e-05,\n",
       "       -5.66364490e-05,  6.14508176e-06,  6.12135695e-05,  5.07939016e-05,\n",
       "       -1.28504435e-05, -6.17109781e-05, -4.46836281e-05,  1.90093285e-05,\n",
       "        6.14387664e-05,  3.83946200e-05, -2.45798044e-05, -6.04452349e-05,\n",
       "       -3.20128057e-05,  2.95294547e-05,  5.87845136e-05,  2.56201981e-05,\n",
       "       -3.38352104e-05, -5.65155711e-05, -1.92941396e-05,  3.74830797e-05,\n",
       "        5.37012235e-05,  1.31066473e-05, -4.04677846e-05, -5.04071559e-05,\n",
       "       -7.12386079e-06,  4.27923143e-05,  4.67009654e-05,  1.40559201e-06,\n",
       "       -4.44674048e-05, -4.26512386e-05,  3.99502178e-06,  4.55109573e-05,\n",
       "        3.83266703e-05, -9.03176504e-06, -4.59474034e-05, -3.37952327e-05])"
      ]
     },
     "execution_count": 533,
     "metadata": {},
     "output_type": "execute_result"
    }
   ],
   "source": [
    "f['field'][1000:1100,0,0,0,0]"
   ]
  },
  {
   "cell_type": "code",
   "execution_count": 537,
   "id": "73011d79",
   "metadata": {},
   "outputs": [
    {
     "data": {
      "text/plain": [
       "(0.0, 1000.0)"
      ]
     },
     "execution_count": 537,
     "metadata": {},
     "output_type": "execute_result"
    },
    {
     "data": {
      "image/png": "[encoded data removed]",
      "text/plain": [
       "<Figure size 640x480 with 1 Axes>"
      ]
     },
     "metadata": {},
     "output_type": "display_data"
    }
   ],
   "source": [
    "plt.plot(f['field'][:1000,0,0,0,0],alpha=0.5)\n",
    "#plt.plot(f['vev'],alpha=0.5)\n",
    "plt.axhline(1)\n",
    "plt.xlim(0,1000)"
   ]
  },
  {
   "cell_type": "code",
   "execution_count": null,
   "id": "64f2c96b",
   "metadata": {},
   "outputs": [],
   "source": []
  },
  {
   "cell_type": "code",
   "execution_count": 409,
   "id": "f97fae6e",
   "metadata": {},
   "outputs": [
    {
     "data": {
      "text/plain": [
       "<matplotlib.legend.Legend at 0x168057340>"
      ]
     },
     "execution_count": 409,
     "metadata": {},
     "output_type": "execute_result"
    },
    {
     "data": {
      "image/png": "[encoded data removed]",
      "text/plain": [
       "<Figure size 640x480 with 1 Axes>"
      ]
     },
     "metadata": {},
     "output_type": "display_data"
    }
   ],
   "source": [
    "plt.plot(f['field'][:,0,0,0],label='psi1')\n",
    "plt.plot(f['field'][:,1,0,0],label='psi2')\n",
    "#plt.plot(f['field'][:,2,0]/1e3)\n",
    "#plt.plot(f['field'][:,3,0]/1e3)\n",
    "#plt.plot(f['field'][:,0,0]**2 + f['field'][:,1,0]**2,label='norm')\n",
    "plt.legend()\n",
    "#plt.xlim(0,10000)\n",
    "#plt.ylim(-5,5)\n",
    "#plt.ylim(-1,1)\n",
    "#plt.xlim(0,1000)"
   ]
  },
  {
   "cell_type": "code",
   "execution_count": 290,
   "id": "19456022",
   "metadata": {},
   "outputs": [],
   "source": [
    "f.close()"
   ]
  },
  {
   "cell_type": "code",
   "execution_count": null,
   "id": "55ce5df3",
   "metadata": {},
   "outputs": [],
   "source": []
  },
  {
   "cell_type": "code",
   "execution_count": 28,
   "id": "3a46ce92",
   "metadata": {},
   "outputs": [],
   "source": [
    "import logging\n",
    "import h5py\n",
    "import matplotlib.pyplot as plt"
   ]
  },
  {
   "cell_type": "code",
   "execution_count": 56,
   "id": "9025f2aa",
   "metadata": {},
   "outputs": [],
   "source": [
    "f = h5py.File('../tests/1_actualPQ/data/PQ_0.hdf5', 'r')"
   ]
  },
  {
   "cell_type": "code",
   "execution_count": 62,
   "id": "39e285bb",
   "metadata": {},
   "outputs": [],
   "source": [
    "f.close()"
   ]
  },
  {
   "cell_type": "code",
   "execution_count": 57,
   "id": "9bb20398",
   "metadata": {},
   "outputs": [
    {
     "data": {
      "text/plain": [
       "<KeysViewHDF5 ['absav', 'av', 'field']>"
      ]
     },
     "execution_count": 57,
     "metadata": {},
     "output_type": "execute_result"
    }
   ],
   "source": [
    "f.keys()"
   ]
  },
  {
   "cell_type": "code",
   "execution_count": 58,
   "id": "9691032b",
   "metadata": {},
   "outputs": [
    {
     "data": {
      "text/plain": [
       "(11, 4, 10, 10, 10)"
      ]
     },
     "execution_count": 58,
     "metadata": {},
     "output_type": "execute_result"
    }
   ],
   "source": [
    "f['field'].shape"
   ]
  },
  {
   "cell_type": "code",
   "execution_count": 61,
   "id": "e3cce189",
   "metadata": {},
   "outputs": [
    {
     "data": {
      "text/plain": [
       "array([[[0.00069949, 0.00069949, 0.00069949, 0.00069949, 0.00069949,\n",
       "         0.00069949, 0.00069949, 0.00069949, 0.00069949, 0.00069949],\n",
       "        [0.00069949, 0.00069949, 0.00069949, 0.00069949, 0.00069949,\n",
       "         0.00069949, 0.00069949, 0.00069949, 0.00069949, 0.00069949],\n",
       "        [0.00069949, 0.00069949, 0.00069949, 0.00069949, 0.00069949,\n",
       "         0.00069949, 0.00069949, 0.00069949, 0.00069949, 0.00069949],\n",
       "        [0.00069949, 0.00069949, 0.00069949, 0.00069949, 0.00069949,\n",
       "         0.00069949, 0.00069949, 0.00069949, 0.00069949, 0.00069949],\n",
       "        [0.00069949, 0.00069949, 0.00069949, 0.00069949, 0.00069949,\n",
       "         0.00069949, 0.00069949, 0.00069949, 0.00069949, 0.00069949],\n",
       "        [0.00069949, 0.00069949, 0.00069949, 0.00069949, 0.00069949,\n",
       "         0.00069949, 0.00069949, 0.00069949, 0.00069949, 0.00069949],\n",
       "        [0.00069949, 0.00069949, 0.00069949, 0.00069949, 0.00069949,\n",
       "         0.00069949, 0.00069949, 0.00069949, 0.00069949, 0.00069949],\n",
       "        [0.00069949, 0.00069949, 0.00069949, 0.00069949, 0.00069949,\n",
       "         0.00069949, 0.00069949, 0.00069949, 0.00069949, 0.00069949],\n",
       "        [0.00069949, 0.00069949, 0.00069949, 0.00069949, 0.00069949,\n",
       "         0.00069949, 0.00069949, 0.00069949, 0.00069949, 0.00069949],\n",
       "        [0.00069949, 0.00069949, 0.00069949, 0.00069949, 0.00069949,\n",
       "         0.00069949, 0.00069949, 0.00069949, 0.00069949, 0.00069949]],\n",
       "\n",
       "       [[0.00069949, 0.00069949, 0.00069949, 0.00069949, 0.00069949,\n",
       "         0.00069949, 0.00069949, 0.00069949, 0.00069949, 0.00069949],\n",
       "        [0.00069949, 0.00069949, 0.00069949, 0.00069949, 0.00069949,\n",
       "         0.00069949, 0.00069949, 0.00069949, 0.00069949, 0.00069949],\n",
       "        [0.00069949, 0.00069949, 0.00069949, 0.00069949, 0.00069949,\n",
       "         0.00069949, 0.00069949, 0.00069949, 0.00069949, 0.00069949],\n",
       "        [0.00069949, 0.00069949, 0.00069949, 0.00069949, 0.00069949,\n",
       "         0.00069949, 0.00069949, 0.00069949, 0.00069949, 0.00069949],\n",
       "        [0.00069949, 0.00069949, 0.00069949, 0.00069949, 0.00069949,\n",
       "         0.00069949, 0.00069949, 0.00069949, 0.00069949, 0.00069949],\n",
       "        [0.00069949, 0.00069949, 0.00069949, 0.00069949, 0.00069949,\n",
       "         0.00069949, 0.00069949, 0.00069949, 0.00069949, 0.00069949],\n",
       "        [0.00069949, 0.00069949, 0.00069949, 0.00069949, 0.00069949,\n",
       "         0.00069949, 0.00069949, 0.00069949, 0.00069949, 0.00069949],\n",
       "        [0.00069949, 0.00069949, 0.00069949, 0.00069949, 0.00069949,\n",
       "         0.00069949, 0.00069949, 0.00069949, 0.00069949, 0.00069949],\n",
       "        [0.00069949, 0.00069949, 0.00069949, 0.00069949, 0.00069949,\n",
       "         0.00069949, 0.00069949, 0.00069949, 0.00069949, 0.00069949],\n",
       "        [0.00069949, 0.00069949, 0.00069949, 0.00069949, 0.00069949,\n",
       "         0.00069949, 0.00069949, 0.00069949, 0.00069949, 0.00069949]],\n",
       "\n",
       "       [[0.00069949, 0.00069949, 0.00069949, 0.00069949, 0.00069949,\n",
       "         0.00069949, 0.00069949, 0.00069949, 0.00069949, 0.00069949],\n",
       "        [0.00069949, 0.00069949, 0.00069949, 0.00069949, 0.00069949,\n",
       "         0.00069949, 0.00069949, 0.00069949, 0.00069949, 0.00069949],\n",
       "        [0.00069949, 0.00069949, 0.00069949, 0.00069949, 0.00069949,\n",
       "         0.00069949, 0.00069949, 0.00069949, 0.00069949, 0.00069949],\n",
       "        [0.00069949, 0.00069949, 0.00069949, 0.00069949, 0.00069949,\n",
       "         0.00069949, 0.00069949, 0.00069949, 0.00069949, 0.00069949],\n",
       "        [0.00069949, 0.00069949, 0.00069949, 0.00069949, 0.00069949,\n",
       "         0.00069949, 0.00069949, 0.00069949, 0.00069949, 0.00069949],\n",
       "        [0.00069949, 0.00069949, 0.00069949, 0.00069949, 0.00069949,\n",
       "         0.00069949, 0.00069949, 0.00069949, 0.00069949, 0.00069949],\n",
       "        [0.00069949, 0.00069949, 0.00069949, 0.00069949, 0.00069949,\n",
       "         0.00069949, 0.00069949, 0.00069949, 0.00069949, 0.00069949],\n",
       "        [0.00069949, 0.00069949, 0.00069949, 0.00069949, 0.00069949,\n",
       "         0.00069949, 0.00069949, 0.00069949, 0.00069949, 0.00069949],\n",
       "        [0.00069949, 0.00069949, 0.00069949, 0.00069949, 0.00069949,\n",
       "         0.00069949, 0.00069949, 0.00069949, 0.00069949, 0.00069949],\n",
       "        [0.00069949, 0.00069949, 0.00069949, 0.00069949, 0.00069949,\n",
       "         0.00069949, 0.00069949, 0.00069949, 0.00069949, 0.00069949]],\n",
       "\n",
       "       [[0.00069949, 0.00069949, 0.00069949, 0.00069949, 0.00069949,\n",
       "         0.00069949, 0.00069949, 0.00069949, 0.00069949, 0.00069949],\n",
       "        [0.00069949, 0.00069949, 0.00069949, 0.00069949, 0.00069949,\n",
       "         0.00069949, 0.00069949, 0.00069949, 0.00069949, 0.00069949],\n",
       "        [0.00069949, 0.00069949, 0.00069949, 0.00069949, 0.00069949,\n",
       "         0.00069949, 0.00069949, 0.00069949, 0.00069949, 0.00069949],\n",
       "        [0.00069949, 0.00069949, 0.00069949, 0.00069949, 0.00069949,\n",
       "         0.00069949, 0.00069949, 0.00069949, 0.00069949, 0.00069949],\n",
       "        [0.00069949, 0.00069949, 0.00069949, 0.00069949, 0.00069949,\n",
       "         0.00069949, 0.00069949, 0.00069949, 0.00069949, 0.00069949],\n",
       "        [0.00069949, 0.00069949, 0.00069949, 0.00069949, 0.00069949,\n",
       "         0.00069949, 0.00069949, 0.00069949, 0.00069949, 0.00069949],\n",
       "        [0.00069949, 0.00069949, 0.00069949, 0.00069949, 0.00069949,\n",
       "         0.00069949, 0.00069949, 0.00069949, 0.00069949, 0.00069949],\n",
       "        [0.00069949, 0.00069949, 0.00069949, 0.00069949, 0.00069949,\n",
       "         0.00069949, 0.00069949, 0.00069949, 0.00069949, 0.00069949],\n",
       "        [0.00069949, 0.00069949, 0.00069949, 0.00069949, 0.00069949,\n",
       "         0.00069949, 0.00069949, 0.00069949, 0.00069949, 0.00069949],\n",
       "        [0.00069949, 0.00069949, 0.00069949, 0.00069949, 0.00069949,\n",
       "         0.00069949, 0.00069949, 0.00069949, 0.00069949, 0.00069949]],\n",
       "\n",
       "       [[0.00069949, 0.00069949, 0.00069949, 0.00069949, 0.00069949,\n",
       "         0.00069949, 0.00069949, 0.00069949, 0.00069949, 0.00069949],\n",
       "        [0.00069949, 0.00069949, 0.00069949, 0.00069949, 0.00069949,\n",
       "         0.00069949, 0.00069949, 0.00069949, 0.00069949, 0.00069949],\n",
       "        [0.00069949, 0.00069949, 0.00069949, 0.00069949, 0.00069949,\n",
       "         0.00069949, 0.00069949, 0.00069949, 0.00069949, 0.00069949],\n",
       "        [0.00069949, 0.00069949, 0.00069949, 0.00069949, 0.00069949,\n",
       "         0.00069949, 0.00069949, 0.00069949, 0.00069949, 0.00069949],\n",
       "        [0.00069949, 0.00069949, 0.00069949, 0.00069949, 0.00069949,\n",
       "         0.00069949, 0.00069949, 0.00069949, 0.00069949, 0.00069949],\n",
       "        [0.00069949, 0.00069949, 0.00069949, 0.00069949, 0.00069949,\n",
       "         0.00069949, 0.00069949, 0.00069949, 0.00069949, 0.00069949],\n",
       "        [0.00069949, 0.00069949, 0.00069949, 0.00069949, 0.00069949,\n",
       "         0.00069949, 0.00069949, 0.00069949, 0.00069949, 0.00069949],\n",
       "        [0.00069949, 0.00069949, 0.00069949, 0.00069949, 0.00069949,\n",
       "         0.00069949, 0.00069949, 0.00069949, 0.00069949, 0.00069949],\n",
       "        [0.00069949, 0.00069949, 0.00069949, 0.00069949, 0.00069949,\n",
       "         0.00069949, 0.00069949, 0.00069949, 0.00069949, 0.00069949],\n",
       "        [0.00069949, 0.00069949, 0.00069949, 0.00069949, 0.00069949,\n",
       "         0.00069949, 0.00069949, 0.00069949, 0.00069949, 0.00069949]],\n",
       "\n",
       "       [[0.00069949, 0.00069949, 0.00069949, 0.00069949, 0.00069949,\n",
       "         0.00069949, 0.00069949, 0.00069949, 0.00069949, 0.00069949],\n",
       "        [0.00069949, 0.00069949, 0.00069949, 0.00069949, 0.00069949,\n",
       "         0.00069949, 0.00069949, 0.00069949, 0.00069949, 0.00069949],\n",
       "        [0.00069949, 0.00069949, 0.00069949, 0.00069949, 0.00069949,\n",
       "         0.00069949, 0.00069949, 0.00069949, 0.00069949, 0.00069949],\n",
       "        [0.00069949, 0.00069949, 0.00069949, 0.00069949, 0.00069949,\n",
       "         0.00069949, 0.00069949, 0.00069949, 0.00069949, 0.00069949],\n",
       "        [0.00069949, 0.00069949, 0.00069949, 0.00069949, 0.00069949,\n",
       "         0.00069949, 0.00069949, 0.00069949, 0.00069949, 0.00069949],\n",
       "        [0.00069949, 0.00069949, 0.00069949, 0.00069949, 0.00069949,\n",
       "         0.00069949, 0.00069949, 0.00069949, 0.00069949, 0.00069949],\n",
       "        [0.00069949, 0.00069949, 0.00069949, 0.00069949, 0.00069949,\n",
       "         0.00069949, 0.00069949, 0.00069949, 0.00069949, 0.00069949],\n",
       "        [0.00069949, 0.00069949, 0.00069949, 0.00069949, 0.00069949,\n",
       "         0.00069949, 0.00069949, 0.00069949, 0.00069949, 0.00069949],\n",
       "        [0.00069949, 0.00069949, 0.00069949, 0.00069949, 0.00069949,\n",
       "         0.00069949, 0.00069949, 0.00069949, 0.00069949, 0.00069949],\n",
       "        [0.00069949, 0.00069949, 0.00069949, 0.00069949, 0.00069949,\n",
       "         0.00069949, 0.00069949, 0.00069949, 0.00069949, 0.00069949]],\n",
       "\n",
       "       [[0.00069949, 0.00069949, 0.00069949, 0.00069949, 0.00069949,\n",
       "         0.00069949, 0.00069949, 0.00069949, 0.00069949, 0.00069949],\n",
       "        [0.00069949, 0.00069949, 0.00069949, 0.00069949, 0.00069949,\n",
       "         0.00069949, 0.00069949, 0.00069949, 0.00069949, 0.00069949],\n",
       "        [0.00069949, 0.00069949, 0.00069949, 0.00069949, 0.00069949,\n",
       "         0.00069949, 0.00069949, 0.00069949, 0.00069949, 0.00069949],\n",
       "        [0.00069949, 0.00069949, 0.00069949, 0.00069949, 0.00069949,\n",
       "         0.00069949, 0.00069949, 0.00069949, 0.00069949, 0.00069949],\n",
       "        [0.00069949, 0.00069949, 0.00069949, 0.00069949, 0.00069949,\n",
       "         0.00069949, 0.00069949, 0.00069949, 0.00069949, 0.00069949],\n",
       "        [0.00069949, 0.00069949, 0.00069949, 0.00069949, 0.00069949,\n",
       "         0.00069949, 0.00069949, 0.00069949, 0.00069949, 0.00069949],\n",
       "        [0.00069949, 0.00069949, 0.00069949, 0.00069949, 0.00069949,\n",
       "         0.00069949, 0.00069949, 0.00069949, 0.00069949, 0.00069949],\n",
       "        [0.00069949, 0.00069949, 0.00069949, 0.00069949, 0.00069949,\n",
       "         0.00069949, 0.00069949, 0.00069949, 0.00069949, 0.00069949],\n",
       "        [0.00069949, 0.00069949, 0.00069949, 0.00069949, 0.00069949,\n",
       "         0.00069949, 0.00069949, 0.00069949, 0.00069949, 0.00069949],\n",
       "        [0.00069949, 0.00069949, 0.00069949, 0.00069949, 0.00069949,\n",
       "         0.00069949, 0.00069949, 0.00069949, 0.00069949, 0.00069949]],\n",
       "\n",
       "       [[0.00069949, 0.00069949, 0.00069949, 0.00069949, 0.00069949,\n",
       "         0.00069949, 0.00069949, 0.00069949, 0.00069949, 0.00069949],\n",
       "        [0.00069949, 0.00069949, 0.00069949, 0.00069949, 0.00069949,\n",
       "         0.00069949, 0.00069949, 0.00069949, 0.00069949, 0.00069949],\n",
       "        [0.00069949, 0.00069949, 0.00069949, 0.00069949, 0.00069949,\n",
       "         0.00069949, 0.00069949, 0.00069949, 0.00069949, 0.00069949],\n",
       "        [0.00069949, 0.00069949, 0.00069949, 0.00069949, 0.00069949,\n",
       "         0.00069949, 0.00069949, 0.00069949, 0.00069949, 0.00069949],\n",
       "        [0.00069949, 0.00069949, 0.00069949, 0.00069949, 0.00069949,\n",
       "         0.00069949, 0.00069949, 0.00069949, 0.00069949, 0.00069949],\n",
       "        [0.00069949, 0.00069949, 0.00069949, 0.00069949, 0.00069949,\n",
       "         0.00069949, 0.00069949, 0.00069949, 0.00069949, 0.00069949],\n",
       "        [0.00069949, 0.00069949, 0.00069949, 0.00069949, 0.00069949,\n",
       "         0.00069949, 0.00069949, 0.00069949, 0.00069949, 0.00069949],\n",
       "        [0.00069949, 0.00069949, 0.00069949, 0.00069949, 0.00069949,\n",
       "         0.00069949, 0.00069949, 0.00069949, 0.00069949, 0.00069949],\n",
       "        [0.00069949, 0.00069949, 0.00069949, 0.00069949, 0.00069949,\n",
       "         0.00069949, 0.00069949, 0.00069949, 0.00069949, 0.00069949],\n",
       "        [0.00069949, 0.00069949, 0.00069949, 0.00069949, 0.00069949,\n",
       "         0.00069949, 0.00069949, 0.00069949, 0.00069949, 0.00069949]],\n",
       "\n",
       "       [[0.00069949, 0.00069949, 0.00069949, 0.00069949, 0.00069949,\n",
       "         0.00069949, 0.00069949, 0.00069949, 0.00069949, 0.00069949],\n",
       "        [0.00069949, 0.00069949, 0.00069949, 0.00069949, 0.00069949,\n",
       "         0.00069949, 0.00069949, 0.00069949, 0.00069949, 0.00069949],\n",
       "        [0.00069949, 0.00069949, 0.00069949, 0.00069949, 0.00069949,\n",
       "         0.00069949, 0.00069949, 0.00069949, 0.00069949, 0.00069949],\n",
       "        [0.00069949, 0.00069949, 0.00069949, 0.00069949, 0.00069949,\n",
       "         0.00069949, 0.00069949, 0.00069949, 0.00069949, 0.00069949],\n",
       "        [0.00069949, 0.00069949, 0.00069949, 0.00069949, 0.00069949,\n",
       "         0.00069949, 0.00069949, 0.00069949, 0.00069949, 0.00069949],\n",
       "        [0.00069949, 0.00069949, 0.00069949, 0.00069949, 0.00069949,\n",
       "         0.00069949, 0.00069949, 0.00069949, 0.00069949, 0.00069949],\n",
       "        [0.00069949, 0.00069949, 0.00069949, 0.00069949, 0.00069949,\n",
       "         0.00069949, 0.00069949, 0.00069949, 0.00069949, 0.00069949],\n",
       "        [0.00069949, 0.00069949, 0.00069949, 0.00069949, 0.00069949,\n",
       "         0.00069949, 0.00069949, 0.00069949, 0.00069949, 0.00069949],\n",
       "        [0.00069949, 0.00069949, 0.00069949, 0.00069949, 0.00069949,\n",
       "         0.00069949, 0.00069949, 0.00069949, 0.00069949, 0.00069949],\n",
       "        [0.00069949, 0.00069949, 0.00069949, 0.00069949, 0.00069949,\n",
       "         0.00069949, 0.00069949, 0.00069949, 0.00069949, 0.00069949]],\n",
       "\n",
       "       [[0.00069949, 0.00069949, 0.00069949, 0.00069949, 0.00069949,\n",
       "         0.00069949, 0.00069949, 0.00069949, 0.00069949, 0.00069949],\n",
       "        [0.00069949, 0.00069949, 0.00069949, 0.00069949, 0.00069949,\n",
       "         0.00069949, 0.00069949, 0.00069949, 0.00069949, 0.00069949],\n",
       "        [0.00069949, 0.00069949, 0.00069949, 0.00069949, 0.00069949,\n",
       "         0.00069949, 0.00069949, 0.00069949, 0.00069949, 0.00069949],\n",
       "        [0.00069949, 0.00069949, 0.00069949, 0.00069949, 0.00069949,\n",
       "         0.00069949, 0.00069949, 0.00069949, 0.00069949, 0.00069949],\n",
       "        [0.00069949, 0.00069949, 0.00069949, 0.00069949, 0.00069949,\n",
       "         0.00069949, 0.00069949, 0.00069949, 0.00069949, 0.00069949],\n",
       "        [0.00069949, 0.00069949, 0.00069949, 0.00069949, 0.00069949,\n",
       "         0.00069949, 0.00069949, 0.00069949, 0.00069949, 0.00069949],\n",
       "        [0.00069949, 0.00069949, 0.00069949, 0.00069949, 0.00069949,\n",
       "         0.00069949, 0.00069949, 0.00069949, 0.00069949, 0.00069949],\n",
       "        [0.00069949, 0.00069949, 0.00069949, 0.00069949, 0.00069949,\n",
       "         0.00069949, 0.00069949, 0.00069949, 0.00069949, 0.00069949],\n",
       "        [0.00069949, 0.00069949, 0.00069949, 0.00069949, 0.00069949,\n",
       "         0.00069949, 0.00069949, 0.00069949, 0.00069949, 0.00069949],\n",
       "        [0.00069949, 0.00069949, 0.00069949, 0.00069949, 0.00069949,\n",
       "         0.00069949, 0.00069949, 0.00069949, 0.00069949, 0.00069949]]])"
      ]
     },
     "execution_count": 61,
     "metadata": {},
     "output_type": "execute_result"
    }
   ],
   "source": [
    "f['field'][1,0,:,:,:]"
   ]
  },
  {
   "cell_type": "code",
   "execution_count": 37,
   "id": "e0759151",
   "metadata": {},
   "outputs": [
    {
     "data": {
      "text/plain": [
       "<KeysViewHDF5 ['absav', 'av', 'field']>"
      ]
     },
     "execution_count": 37,
     "metadata": {},
     "output_type": "execute_result"
    }
   ],
   "source": [
    "f.keys()"
   ]
  },
  {
   "cell_type": "code",
   "execution_count": 30,
   "id": "3b2121d5",
   "metadata": {},
   "outputs": [
    {
     "data": {
      "text/plain": [
       "(100001, 4)"
      ]
     },
     "execution_count": 30,
     "metadata": {},
     "output_type": "execute_result"
    }
   ],
   "source": [
    "f['absav'].shape"
   ]
  },
  {
   "cell_type": "code",
   "execution_count": 42,
   "id": "23328cdd",
   "metadata": {},
   "outputs": [
    {
     "data": {
      "text/plain": [
       "(-2.0, 2.0)"
      ]
     },
     "execution_count": 42,
     "metadata": {},
     "output_type": "execute_result"
    },
    {
     "data": {
      "image/png": "[encoded data removed]",
      "text/plain": [
       "<Figure size 640x480 with 1 Axes>"
      ]
     },
     "metadata": {},
     "output_type": "display_data"
    }
   ],
   "source": [
    "plt.plot(f['absav'][:,:])\n",
    "plt.ylim(-2,2)"
   ]
  },
  {
   "cell_type": "code",
   "execution_count": 14,
   "id": "ec772ba5",
   "metadata": {},
   "outputs": [],
   "source": [
    "logging.basicConfig(filename='test')"
   ]
  },
  {
   "cell_type": "code",
   "execution_count": null,
   "id": "a591c649",
   "metadata": {},
   "outputs": [],
   "source": [
    "logging."
   ]
  },
  {
   "cell_type": "code",
   "execution_count": 2,
   "id": "5e54c57a",
   "metadata": {},
   "outputs": [],
   "source": [
    "import pickle"
   ]
  },
  {
   "cell_type": "code",
   "execution_count": 3,
   "id": "5a2d2745",
   "metadata": {},
   "outputs": [],
   "source": [
    "x = pickle.load(open('../tests/1_actualPQ/data/point','rb'))"
   ]
  },
  {
   "cell_type": "code",
   "execution_count": 10,
   "id": "f98a6542",
   "metadata": {},
   "outputs": [
    {
     "data": {
      "text/plain": [
       "(array([[[[-0.00018167, -0.00018167, -0.00018167, ..., -0.00018167,\n",
       "           -0.00018167, -0.00018167],\n",
       "          [-0.00018167, -0.00018167, -0.00018167, ..., -0.00018167,\n",
       "           -0.00018167, -0.00018167],\n",
       "          [-0.00018167, -0.00018167, -0.00018167, ..., -0.00018167,\n",
       "           -0.00018167, -0.00018167],\n",
       "          ...,\n",
       "          [-0.00018167, -0.00018167, -0.00018167, ..., -0.00018167,\n",
       "           -0.00018167, -0.00018167],\n",
       "          [-0.00018167, -0.00018167, -0.00018167, ..., -0.00018167,\n",
       "           -0.00018167, -0.00018167],\n",
       "          [-0.00018167, -0.00018167, -0.00018167, ..., -0.00018167,\n",
       "           -0.00018167, -0.00018167]],\n",
       " \n",
       "         [[-0.00018167, -0.00018167, -0.00018167, ..., -0.00018167,\n",
       "           -0.00018167, -0.00018167],\n",
       "          [-0.00018167, -0.00018167, -0.00018167, ..., -0.00018167,\n",
       "           -0.00018167, -0.00018167],\n",
       "          [-0.00018167, -0.00018167, -0.00018167, ..., -0.00018167,\n",
       "           -0.00018167, -0.00018167],\n",
       "          ...,\n",
       "          [-0.00018167, -0.00018167, -0.00018167, ..., -0.00018167,\n",
       "           -0.00018167, -0.00018167],\n",
       "          [-0.00018167, -0.00018167, -0.00018167, ..., -0.00018167,\n",
       "           -0.00018167, -0.00018167],\n",
       "          [-0.00018167, -0.00018167, -0.00018167, ..., -0.00018167,\n",
       "           -0.00018167, -0.00018167]],\n",
       " \n",
       "         [[-0.00018167, -0.00018167, -0.00018167, ..., -0.00018167,\n",
       "           -0.00018167, -0.00018167],\n",
       "          [-0.00018167, -0.00018167, -0.00018167, ..., -0.00018167,\n",
       "           -0.00018167, -0.00018167],\n",
       "          [-0.00018167, -0.00018167, -0.00018167, ..., -0.00018167,\n",
       "           -0.00018167, -0.00018167],\n",
       "          ...,\n",
       "          [-0.00018167, -0.00018167, -0.00018167, ..., -0.00018167,\n",
       "           -0.00018167, -0.00018167],\n",
       "          [-0.00018167, -0.00018167, -0.00018167, ..., -0.00018167,\n",
       "           -0.00018167, -0.00018167],\n",
       "          [-0.00018167, -0.00018167, -0.00018167, ..., -0.00018167,\n",
       "           -0.00018167, -0.00018167]],\n",
       " \n",
       "         ...,\n",
       " \n",
       "         [[-0.00018167, -0.00018167, -0.00018167, ..., -0.00018167,\n",
       "           -0.00018167, -0.00018167],\n",
       "          [-0.00018167, -0.00018167, -0.00018167, ..., -0.00018167,\n",
       "           -0.00018167, -0.00018167],\n",
       "          [-0.00018167, -0.00018167, -0.00018167, ..., -0.00018167,\n",
       "           -0.00018167, -0.00018167],\n",
       "          ...,\n",
       "          [-0.00018167, -0.00018167, -0.00018167, ..., -0.00018167,\n",
       "           -0.00018167, -0.00018167],\n",
       "          [-0.00018167, -0.00018167, -0.00018167, ..., -0.00018167,\n",
       "           -0.00018167, -0.00018167],\n",
       "          [-0.00018167, -0.00018167, -0.00018167, ..., -0.00018167,\n",
       "           -0.00018167, -0.00018167]],\n",
       " \n",
       "         [[-0.00018167, -0.00018167, -0.00018167, ..., -0.00018167,\n",
       "           -0.00018167, -0.00018167],\n",
       "          [-0.00018167, -0.00018167, -0.00018167, ..., -0.00018167,\n",
       "           -0.00018167, -0.00018167],\n",
       "          [-0.00018167, -0.00018167, -0.00018167, ..., -0.00018167,\n",
       "           -0.00018167, -0.00018167],\n",
       "          ...,\n",
       "          [-0.00018167, -0.00018167, -0.00018167, ..., -0.00018167,\n",
       "           -0.00018167, -0.00018167],\n",
       "          [-0.00018167, -0.00018167, -0.00018167, ..., -0.00018167,\n",
       "           -0.00018167, -0.00018167],\n",
       "          [-0.00018167, -0.00018167, -0.00018167, ..., -0.00018167,\n",
       "           -0.00018167, -0.00018167]],\n",
       " \n",
       "         [[-0.00018167, -0.00018167, -0.00018167, ..., -0.00018167,\n",
       "           -0.00018167, -0.00018167],\n",
       "          [-0.00018167, -0.00018167, -0.00018167, ..., -0.00018167,\n",
       "           -0.00018167, -0.00018167],\n",
       "          [-0.00018167, -0.00018167, -0.00018167, ..., -0.00018167,\n",
       "           -0.00018167, -0.00018167],\n",
       "          ...,\n",
       "          [-0.00018167, -0.00018167, -0.00018167, ..., -0.00018167,\n",
       "           -0.00018167, -0.00018167],\n",
       "          [-0.00018167, -0.00018167, -0.00018167, ..., -0.00018167,\n",
       "           -0.00018167, -0.00018167],\n",
       "          [-0.00018167, -0.00018167, -0.00018167, ..., -0.00018167,\n",
       "           -0.00018167, -0.00018167]]],\n",
       " \n",
       " \n",
       "        [[[-0.00018167, -0.00018167, -0.00018167, ..., -0.00018167,\n",
       "           -0.00018167, -0.00018167],\n",
       "          [-0.00018167, -0.00018167, -0.00018167, ..., -0.00018167,\n",
       "           -0.00018167, -0.00018167],\n",
       "          [-0.00018167, -0.00018167, -0.00018167, ..., -0.00018167,\n",
       "           -0.00018167, -0.00018167],\n",
       "          ...,\n",
       "          [-0.00018167, -0.00018167, -0.00018167, ..., -0.00018167,\n",
       "           -0.00018167, -0.00018167],\n",
       "          [-0.00018167, -0.00018167, -0.00018167, ..., -0.00018167,\n",
       "           -0.00018167, -0.00018167],\n",
       "          [-0.00018167, -0.00018167, -0.00018167, ..., -0.00018167,\n",
       "           -0.00018167, -0.00018167]],\n",
       " \n",
       "         [[-0.00018167, -0.00018167, -0.00018167, ..., -0.00018167,\n",
       "           -0.00018167, -0.00018167],\n",
       "          [-0.00018167, -0.00018167, -0.00018167, ..., -0.00018167,\n",
       "           -0.00018167, -0.00018167],\n",
       "          [-0.00018167, -0.00018167, -0.00018167, ..., -0.00018167,\n",
       "           -0.00018167, -0.00018167],\n",
       "          ...,\n",
       "          [-0.00018167, -0.00018167, -0.00018167, ..., -0.00018167,\n",
       "           -0.00018167, -0.00018167],\n",
       "          [-0.00018167, -0.00018167, -0.00018167, ..., -0.00018167,\n",
       "           -0.00018167, -0.00018167],\n",
       "          [-0.00018167, -0.00018167, -0.00018167, ..., -0.00018167,\n",
       "           -0.00018167, -0.00018167]],\n",
       " \n",
       "         [[-0.00018167, -0.00018167, -0.00018167, ..., -0.00018167,\n",
       "           -0.00018167, -0.00018167],\n",
       "          [-0.00018167, -0.00018167, -0.00018167, ..., -0.00018167,\n",
       "           -0.00018167, -0.00018167],\n",
       "          [-0.00018167, -0.00018167, -0.00018167, ..., -0.00018167,\n",
       "           -0.00018167, -0.00018167],\n",
       "          ...,\n",
       "          [-0.00018167, -0.00018167, -0.00018167, ..., -0.00018167,\n",
       "           -0.00018167, -0.00018167],\n",
       "          [-0.00018167, -0.00018167, -0.00018167, ..., -0.00018167,\n",
       "           -0.00018167, -0.00018167],\n",
       "          [-0.00018167, -0.00018167, -0.00018167, ..., -0.00018167,\n",
       "           -0.00018167, -0.00018167]],\n",
       " \n",
       "         ...,\n",
       " \n",
       "         [[-0.00018167, -0.00018167, -0.00018167, ..., -0.00018167,\n",
       "           -0.00018167, -0.00018167],\n",
       "          [-0.00018167, -0.00018167, -0.00018167, ..., -0.00018167,\n",
       "           -0.00018167, -0.00018167],\n",
       "          [-0.00018167, -0.00018167, -0.00018167, ..., -0.00018167,\n",
       "           -0.00018167, -0.00018167],\n",
       "          ...,\n",
       "          [-0.00018167, -0.00018167, -0.00018167, ..., -0.00018167,\n",
       "           -0.00018167, -0.00018167],\n",
       "          [-0.00018167, -0.00018167, -0.00018167, ..., -0.00018167,\n",
       "           -0.00018167, -0.00018167],\n",
       "          [-0.00018167, -0.00018167, -0.00018167, ..., -0.00018167,\n",
       "           -0.00018167, -0.00018167]],\n",
       " \n",
       "         [[-0.00018167, -0.00018167, -0.00018167, ..., -0.00018167,\n",
       "           -0.00018167, -0.00018167],\n",
       "          [-0.00018167, -0.00018167, -0.00018167, ..., -0.00018167,\n",
       "           -0.00018167, -0.00018167],\n",
       "          [-0.00018167, -0.00018167, -0.00018167, ..., -0.00018167,\n",
       "           -0.00018167, -0.00018167],\n",
       "          ...,\n",
       "          [-0.00018167, -0.00018167, -0.00018167, ..., -0.00018167,\n",
       "           -0.00018167, -0.00018167],\n",
       "          [-0.00018167, -0.00018167, -0.00018167, ..., -0.00018167,\n",
       "           -0.00018167, -0.00018167],\n",
       "          [-0.00018167, -0.00018167, -0.00018167, ..., -0.00018167,\n",
       "           -0.00018167, -0.00018167]],\n",
       " \n",
       "         [[-0.00018167, -0.00018167, -0.00018167, ..., -0.00018167,\n",
       "           -0.00018167, -0.00018167],\n",
       "          [-0.00018167, -0.00018167, -0.00018167, ..., -0.00018167,\n",
       "           -0.00018167, -0.00018167],\n",
       "          [-0.00018167, -0.00018167, -0.00018167, ..., -0.00018167,\n",
       "           -0.00018167, -0.00018167],\n",
       "          ...,\n",
       "          [-0.00018167, -0.00018167, -0.00018167, ..., -0.00018167,\n",
       "           -0.00018167, -0.00018167],\n",
       "          [-0.00018167, -0.00018167, -0.00018167, ..., -0.00018167,\n",
       "           -0.00018167, -0.00018167],\n",
       "          [-0.00018167, -0.00018167, -0.00018167, ..., -0.00018167,\n",
       "           -0.00018167, -0.00018167]]]]),\n",
       " array([[[[-0.02570611, -0.02570611, -0.02570611, ..., -0.02570611,\n",
       "           -0.02570611, -0.02570611],\n",
       "          [-0.02570611, -0.02570611, -0.02570611, ..., -0.02570611,\n",
       "           -0.02570611, -0.02570611],\n",
       "          [-0.02570611, -0.02570611, -0.02570611, ..., -0.02570611,\n",
       "           -0.02570611, -0.02570611],\n",
       "          ...,\n",
       "          [-0.02570611, -0.02570611, -0.02570611, ..., -0.02570611,\n",
       "           -0.02570611, -0.02570611],\n",
       "          [-0.02570611, -0.02570611, -0.02570611, ..., -0.02570611,\n",
       "           -0.02570611, -0.02570611],\n",
       "          [-0.02570611, -0.02570611, -0.02570611, ..., -0.02570611,\n",
       "           -0.02570611, -0.02570611]],\n",
       " \n",
       "         [[-0.02570611, -0.02570611, -0.02570611, ..., -0.02570611,\n",
       "           -0.02570611, -0.02570611],\n",
       "          [-0.02570611, -0.02570611, -0.02570611, ..., -0.02570611,\n",
       "           -0.02570611, -0.02570611],\n",
       "          [-0.02570611, -0.02570611, -0.02570611, ..., -0.02570611,\n",
       "           -0.02570611, -0.02570611],\n",
       "          ...,\n",
       "          [-0.02570611, -0.02570611, -0.02570611, ..., -0.02570611,\n",
       "           -0.02570611, -0.02570611],\n",
       "          [-0.02570611, -0.02570611, -0.02570611, ..., -0.02570611,\n",
       "           -0.02570611, -0.02570611],\n",
       "          [-0.02570611, -0.02570611, -0.02570611, ..., -0.02570611,\n",
       "           -0.02570611, -0.02570611]],\n",
       " \n",
       "         [[-0.02570611, -0.02570611, -0.02570611, ..., -0.02570611,\n",
       "           -0.02570611, -0.02570611],\n",
       "          [-0.02570611, -0.02570611, -0.02570611, ..., -0.02570611,\n",
       "           -0.02570611, -0.02570611],\n",
       "          [-0.02570611, -0.02570611, -0.02570611, ..., -0.02570611,\n",
       "           -0.02570611, -0.02570611],\n",
       "          ...,\n",
       "          [-0.02570611, -0.02570611, -0.02570611, ..., -0.02570611,\n",
       "           -0.02570611, -0.02570611],\n",
       "          [-0.02570611, -0.02570611, -0.02570611, ..., -0.02570611,\n",
       "           -0.02570611, -0.02570611],\n",
       "          [-0.02570611, -0.02570611, -0.02570611, ..., -0.02570611,\n",
       "           -0.02570611, -0.02570611]],\n",
       " \n",
       "         ...,\n",
       " \n",
       "         [[-0.02570611, -0.02570611, -0.02570611, ..., -0.02570611,\n",
       "           -0.02570611, -0.02570611],\n",
       "          [-0.02570611, -0.02570611, -0.02570611, ..., -0.02570611,\n",
       "           -0.02570611, -0.02570611],\n",
       "          [-0.02570611, -0.02570611, -0.02570611, ..., -0.02570611,\n",
       "           -0.02570611, -0.02570611],\n",
       "          ...,\n",
       "          [-0.02570611, -0.02570611, -0.02570611, ..., -0.02570611,\n",
       "           -0.02570611, -0.02570611],\n",
       "          [-0.02570611, -0.02570611, -0.02570611, ..., -0.02570611,\n",
       "           -0.02570611, -0.02570611],\n",
       "          [-0.02570611, -0.02570611, -0.02570611, ..., -0.02570611,\n",
       "           -0.02570611, -0.02570611]],\n",
       " \n",
       "         [[-0.02570611, -0.02570611, -0.02570611, ..., -0.02570611,\n",
       "           -0.02570611, -0.02570611],\n",
       "          [-0.02570611, -0.02570611, -0.02570611, ..., -0.02570611,\n",
       "           -0.02570611, -0.02570611],\n",
       "          [-0.02570611, -0.02570611, -0.02570611, ..., -0.02570611,\n",
       "           -0.02570611, -0.02570611],\n",
       "          ...,\n",
       "          [-0.02570611, -0.02570611, -0.02570611, ..., -0.02570611,\n",
       "           -0.02570611, -0.02570611],\n",
       "          [-0.02570611, -0.02570611, -0.02570611, ..., -0.02570611,\n",
       "           -0.02570611, -0.02570611],\n",
       "          [-0.02570611, -0.02570611, -0.02570611, ..., -0.02570611,\n",
       "           -0.02570611, -0.02570611]],\n",
       " \n",
       "         [[-0.02570611, -0.02570611, -0.02570611, ..., -0.02570611,\n",
       "           -0.02570611, -0.02570611],\n",
       "          [-0.02570611, -0.02570611, -0.02570611, ..., -0.02570611,\n",
       "           -0.02570611, -0.02570611],\n",
       "          [-0.02570611, -0.02570611, -0.02570611, ..., -0.02570611,\n",
       "           -0.02570611, -0.02570611],\n",
       "          ...,\n",
       "          [-0.02570611, -0.02570611, -0.02570611, ..., -0.02570611,\n",
       "           -0.02570611, -0.02570611],\n",
       "          [-0.02570611, -0.02570611, -0.02570611, ..., -0.02570611,\n",
       "           -0.02570611, -0.02570611],\n",
       "          [-0.02570611, -0.02570611, -0.02570611, ..., -0.02570611,\n",
       "           -0.02570611, -0.02570611]]],\n",
       " \n",
       " \n",
       "        [[[-0.02570611, -0.02570611, -0.02570611, ..., -0.02570611,\n",
       "           -0.02570611, -0.02570611],\n",
       "          [-0.02570611, -0.02570611, -0.02570611, ..., -0.02570611,\n",
       "           -0.02570611, -0.02570611],\n",
       "          [-0.02570611, -0.02570611, -0.02570611, ..., -0.02570611,\n",
       "           -0.02570611, -0.02570611],\n",
       "          ...,\n",
       "          [-0.02570611, -0.02570611, -0.02570611, ..., -0.02570611,\n",
       "           -0.02570611, -0.02570611],\n",
       "          [-0.02570611, -0.02570611, -0.02570611, ..., -0.02570611,\n",
       "           -0.02570611, -0.02570611],\n",
       "          [-0.02570611, -0.02570611, -0.02570611, ..., -0.02570611,\n",
       "           -0.02570611, -0.02570611]],\n",
       " \n",
       "         [[-0.02570611, -0.02570611, -0.02570611, ..., -0.02570611,\n",
       "           -0.02570611, -0.02570611],\n",
       "          [-0.02570611, -0.02570611, -0.02570611, ..., -0.02570611,\n",
       "           -0.02570611, -0.02570611],\n",
       "          [-0.02570611, -0.02570611, -0.02570611, ..., -0.02570611,\n",
       "           -0.02570611, -0.02570611],\n",
       "          ...,\n",
       "          [-0.02570611, -0.02570611, -0.02570611, ..., -0.02570611,\n",
       "           -0.02570611, -0.02570611],\n",
       "          [-0.02570611, -0.02570611, -0.02570611, ..., -0.02570611,\n",
       "           -0.02570611, -0.02570611],\n",
       "          [-0.02570611, -0.02570611, -0.02570611, ..., -0.02570611,\n",
       "           -0.02570611, -0.02570611]],\n",
       " \n",
       "         [[-0.02570611, -0.02570611, -0.02570611, ..., -0.02570611,\n",
       "           -0.02570611, -0.02570611],\n",
       "          [-0.02570611, -0.02570611, -0.02570611, ..., -0.02570611,\n",
       "           -0.02570611, -0.02570611],\n",
       "          [-0.02570611, -0.02570611, -0.02570611, ..., -0.02570611,\n",
       "           -0.02570611, -0.02570611],\n",
       "          ...,\n",
       "          [-0.02570611, -0.02570611, -0.02570611, ..., -0.02570611,\n",
       "           -0.02570611, -0.02570611],\n",
       "          [-0.02570611, -0.02570611, -0.02570611, ..., -0.02570611,\n",
       "           -0.02570611, -0.02570611],\n",
       "          [-0.02570611, -0.02570611, -0.02570611, ..., -0.02570611,\n",
       "           -0.02570611, -0.02570611]],\n",
       " \n",
       "         ...,\n",
       " \n",
       "         [[-0.02570611, -0.02570611, -0.02570611, ..., -0.02570611,\n",
       "           -0.02570611, -0.02570611],\n",
       "          [-0.02570611, -0.02570611, -0.02570611, ..., -0.02570611,\n",
       "           -0.02570611, -0.02570611],\n",
       "          [-0.02570611, -0.02570611, -0.02570611, ..., -0.02570611,\n",
       "           -0.02570611, -0.02570611],\n",
       "          ...,\n",
       "          [-0.02570611, -0.02570611, -0.02570611, ..., -0.02570611,\n",
       "           -0.02570611, -0.02570611],\n",
       "          [-0.02570611, -0.02570611, -0.02570611, ..., -0.02570611,\n",
       "           -0.02570611, -0.02570611],\n",
       "          [-0.02570611, -0.02570611, -0.02570611, ..., -0.02570611,\n",
       "           -0.02570611, -0.02570611]],\n",
       " \n",
       "         [[-0.02570611, -0.02570611, -0.02570611, ..., -0.02570611,\n",
       "           -0.02570611, -0.02570611],\n",
       "          [-0.02570611, -0.02570611, -0.02570611, ..., -0.02570611,\n",
       "           -0.02570611, -0.02570611],\n",
       "          [-0.02570611, -0.02570611, -0.02570611, ..., -0.02570611,\n",
       "           -0.02570611, -0.02570611],\n",
       "          ...,\n",
       "          [-0.02570611, -0.02570611, -0.02570611, ..., -0.02570611,\n",
       "           -0.02570611, -0.02570611],\n",
       "          [-0.02570611, -0.02570611, -0.02570611, ..., -0.02570611,\n",
       "           -0.02570611, -0.02570611],\n",
       "          [-0.02570611, -0.02570611, -0.02570611, ..., -0.02570611,\n",
       "           -0.02570611, -0.02570611]],\n",
       " \n",
       "         [[-0.02570611, -0.02570611, -0.02570611, ..., -0.02570611,\n",
       "           -0.02570611, -0.02570611],\n",
       "          [-0.02570611, -0.02570611, -0.02570611, ..., -0.02570611,\n",
       "           -0.02570611, -0.02570611],\n",
       "          [-0.02570611, -0.02570611, -0.02570611, ..., -0.02570611,\n",
       "           -0.02570611, -0.02570611],\n",
       "          ...,\n",
       "          [-0.02570611, -0.02570611, -0.02570611, ..., -0.02570611,\n",
       "           -0.02570611, -0.02570611],\n",
       "          [-0.02570611, -0.02570611, -0.02570611, ..., -0.02570611,\n",
       "           -0.02570611, -0.02570611],\n",
       "          [-0.02570611, -0.02570611, -0.02570611, ..., -0.02570611,\n",
       "           -0.02570611, -0.02570611]]]]))"
      ]
     },
     "execution_count": 10,
     "metadata": {},
     "output_type": "execute_result"
    }
   ],
   "source": [
    "x['field'][-1]"
   ]
  }
 ],
 "metadata": {
  "kernelspec": {
   "display_name": "Python 3 (ipykernel)",
   "language": "python",
   "name": "python3"
  },
  "language_info": {
   "codemirror_mode": {
    "name": "ipython",
    "version": 3
   },
   "file_extension": ".py",
   "mimetype": "text/x-python",
   "name": "python",
   "nbconvert_exporter": "python",
   "pygments_lexer": "ipython3",
   "version": "3.9.12"
  }
 },
 "nbformat": 4,
 "nbformat_minor": 5
}
