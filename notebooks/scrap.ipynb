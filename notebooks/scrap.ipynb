{
 "cells": [
  {
   "cell_type": "code",
   "execution_count": 64,
   "id": "7bcf46f3",
   "metadata": {},
   "outputs": [],
   "source": [
    "import numpy as np\n",
    "import scipy\n",
    "import pickle\n",
    "import time\n",
    "import tqdm\n",
    "import h5py"
   ]
  },
  {
   "cell_type": "markdown",
   "id": "f9a6d45e",
   "metadata": {},
   "source": [
    "# Params"
   ]
  },
  {
   "cell_type": "code",
   "execution_count": 966,
   "id": "f6ed9785",
   "metadata": {
    "code_folding": []
   },
   "outputs": [],
   "source": [
    "def params(x):\n",
    "    \"\"\"\n",
    "    Expects\n",
    "     x = {'fa':..., eta_PQ' : ...}\n",
    "    or something like\n",
    "     x = {'fa':..., 'T' : ..}\n",
    "    and will spit back dictionary containing everything you would ever want. \n",
    "    \"\"\"\n",
    "    \n",
    "    to_return = {}\n",
    "    if 'eta_PQ' in x.keys():\n",
    "        #print('huh')\n",
    "        x['T'] = (45/(4*np.pi**3*81))**(1/4)*np.sqrt(x['fa'])/x['eta_PQ']\n",
    "        #print((45/(4*np.pi**3*81))**(1/4),np.sqrt(x['fa'])/x['eta_PQ'],x['T'])\n",
    "    elif 'T' in x.keys():\n",
    "        x['eta_PQ'] = (45/(4*np.pi**3*81))**(1/4)*np.sqrt(x['fa'])/x['T']\n",
    "    else:\n",
    "        raise NotImplemented\n",
    "    \n",
    "    x['H'] = np.sqrt(4*np.pi**3/45)*(81**(1/2))*x['T']**2\n",
    "    x['t'] = np.sqrt(45/(16*np.pi**3))*(81**(-1/2))\n",
    "    return x"
   ]
  },
  {
   "cell_type": "markdown",
   "id": "d6ab447d",
   "metadata": {},
   "source": [
    "# Evolve Utils"
   ]
  },
  {
   "cell_type": "code",
   "execution_count": 1032,
   "id": "5a0f817c",
   "metadata": {
    "code_folding": [
     0,
     7,
     38,
     66,
     75
    ]
   },
   "outputs": [],
   "source": [
    "def RK4(f,t,y,h):\n",
    "    k1 = f(t,y)\n",
    "    k2 = f(t+h/2,y+h*k1/2)\n",
    "    k3 = f(t+h/2,y+h*k2/2)\n",
    "    k4 = f(t+h,y+h*k3)\n",
    "    return y + (1/6)*(k1+2*k2+2*k3+k4)*h\n",
    "\n",
    "def grad(field,dir,order,N):\n",
    "    \"\"\"\n",
    "    take derivative of a field, in a specific direction,\n",
    "    with some number of points included (stencil number)\n",
    "    This is a cheap-imitation of something that would use non-axis points \n",
    "    https://web.media.mit.edu/~crtaylor/calculator.html\n",
    "    Probably thats what they meant by seven-point stencil though, the (2,3) scheme I wrote below\n",
    "\n",
    "    Inputs:\n",
    "        field: real numpy array\n",
    "        dir: axis to compute\n",
    "        order: order of derivative to compute\n",
    "        N: number of points to include\n",
    "    \"\"\"\n",
    "    \n",
    "    if (order,N) == (2,3):\n",
    "        return (np.roll(field,-1,axis=dir) + \\\n",
    "               -2*np.roll(field,-1,axis=dir) + \\\n",
    "               np.roll(field,1,axis=dir))\n",
    "    if (order,N) == (2,7):\n",
    "        return (2*np.roll(field,-3,axis=dir) + \\\n",
    "               -27*np.roll(field,-2,axis=dir) + \\\n",
    "               270*np.roll(field,-1,axis=dir) + \\\n",
    "               -490*field + \\\n",
    "               270*np.roll(field,1,axis=dir) + \\\n",
    "               -27*np.roll(field,2,axis=dir) + \\\n",
    "               2*np.roll(field,3,axis=dir))/180\n",
    "    else:\n",
    "        print(order,N)\n",
    "        raise NotImplementedError\n",
    "\n",
    "def rescaled_nabla(field,a,N=3):\n",
    "    \"\"\"\n",
    "    take rescaled nabla^2 of a field (defined under (S8))\n",
    "    scale is \"a\"\n",
    "    \n",
    "    Inputs:\n",
    "        field: 2 x N x N (x N)\n",
    "    \"\"\"\n",
    "    n_space = len(field.shape) - 1\n",
    "    to_return = np.zeros(field.shape)\n",
    "    for i in range(1,n_space + 1):\n",
    "        to_return = to_return + grad(field,i,2,N)\n",
    "    #print('huh',a,np.sum(np.abs(to_return)),np.sum(field))\n",
    "    return to_return/(a**2)\n",
    "\n",
    "def PQ_epoch_diff(eta,field,fieldp,c,a,fa,lamb=1,debug=False):\n",
    "    \"\"\"\n",
    "    (S9) and (S10)\n",
    "    y'' = f(t,y,y'), this is that function f. (in the PQ epoch)\n",
    "    a:  dimensionless \"Lattice spacing\" (old: L_phys (in units of H1) / L_lat (number of sites))\n",
    "    c : T1**2/3fa**2\n",
    "    \"\"\"\n",
    "    A = -(2/eta)*fieldp \n",
    "    B = rescaled_nabla(field,a*eta/fa)\n",
    "    C = -lamb*field*((eta**2)*(np.repeat(np.expand_dims(np.sum(field**2,axis=0),0),2,0) - 1) + c)\n",
    "    #print(np.sum(A),np.sum(np.abs(B)),np.sum(C))\n",
    "    return A + B + C\n",
    "\n",
    "def earlyQCD_epoch_diff(eta,field,fieldp,scale,etac,lamb=5504,n=6.68,debug=False):\n",
    "    A = -(2/eta)*fieldp \n",
    "    B = rescaled_nabla(field,scale)\n",
    "    C = -lamb*field*(eta**2)*(np.repeat(np.expand_dims(np.sum(field**2,axis=0),0),2,0) - 1)\n",
    "    D0 = (min(eta,etac)**n)*(eta**2)*(np.sum(field**2,axis=0)**(-3/2))\n",
    "    D1 = -field[1]**2; D2 = field[0]*field[1]\n",
    "    D = np.vstack((D1/D0,D2/D0))\n",
    "    return A + B + C + D\n",
    "    \n",
    "def lateQCD_epoch_diff():\n",
    "    pass"
   ]
  },
  {
   "cell_type": "markdown",
   "id": "a9123a8a",
   "metadata": {},
   "source": [
    "# Thermal"
   ]
  },
  {
   "cell_type": "code",
   "execution_count": 978,
   "id": "794da917",
   "metadata": {
    "code_folding": [
     0
    ]
   },
   "outputs": [],
   "source": [
    "def thermal(shape,\n",
    "            c, \n",
    "            a,\n",
    "            eta_PQ,\n",
    "            fa,\n",
    "            lamb=1,\n",
    "            kmax=10):\n",
    "    '''\n",
    "    a : lattice\n",
    "    '''\n",
    "    assert type(shape) is tuple\n",
    "    p = params({'eta_PQ': eta_PQ, 'fa' : fa})\n",
    "    print(p['T'],p['eta_PQ'])\n",
    "    \n",
    "    #Easiest to initialize lattice momenta\n",
    "    k2_lat = np.sum((np.sin(2*np.pi*(np.indices(shape).T/np.array(shape).T).T)**2),axis=0)\n",
    "    if (p['T']**2)/3 - fa**2 < 0:\n",
    "        print('HUH?',p['T'],fa/np.sqrt(3))\n",
    "        raise\n",
    "    wk = np.sqrt(k2_lat/((a*eta_PQ/fa)**2) + lamb*((p['T']**2)/3 - fa**2))\n",
    "    nk = 1/(np.exp(wk/p['T']) - 1)\n",
    "    \n",
    "    # fill whole array with Gaussian dist\n",
    "    field   = np.random.normal(0,np.sqrt((nk/wk)*np.prod(shape)*((a*eta_PQ/fa)**3)),(2,)+shape)\n",
    "    field_p = np.random.normal(0,np.sqrt(nk*wk*np.prod(shape)*((a*eta_PQ/fa)**3)),(2,)+shape)\n",
    "\n",
    "    # mask out with zeros\n",
    "    dist = np.sum([np.min(np.array([x**2,(shape[i]-x)**2]),axis=0) for i,x in enumerate(np.indices(shape))],axis=0)\n",
    "    field[0]   = np.where(dist < kmax**2, field[0], 0)\n",
    "    field[1]   = np.where(dist < kmax**2, field[1], 0)\n",
    "    field_p[0] = np.where(dist < kmax**2, field_p[0], 0)\n",
    "    field_p[1] = np.where(dist < kmax**2, field_p[1], 0)\n",
    "\n",
    "    # Inverse Fourier Transform!\n",
    "    field = np.fft.irfftn(field,shape)/fa\n",
    "    field_p = np.fft.irfftn(field_p,shape)/fa\n",
    "\n",
    "    # return psi not phi fields\n",
    "    # including jacobian factor from dt to d eta\n",
    "    return np.vstack((field,field_p * eta_PQ * fa))"
   ]
  },
  {
   "cell_type": "code",
   "execution_count": 971,
   "id": "6154a045",
   "metadata": {
    "scrolled": false
   },
   "outputs": [
    {
     "name": "stdout",
     "output_type": "stream",
     "text": [
      "2.587047908831702 0.1\n"
     ]
    }
   ],
   "source": [
    "f_fp = thermal((100,100,100),\n",
    "               c = 0.1343813934716645,\n",
    "               a = 0.25,\n",
    "               eta_PQ = 0.1,\n",
    "               fa = 1,\n",
    "               kmax=20)"
   ]
  },
  {
   "cell_type": "code",
   "execution_count": 972,
   "id": "e3b37353",
   "metadata": {
    "collapsed": true
   },
   "outputs": [
    {
     "data": {
      "image/png": "[encoded data removed]",
      "text/plain": [
       "<Figure size 640x480 with 2 Axes>"
      ]
     },
     "metadata": {},
     "output_type": "display_data"
    },
    {
     "data": {
      "image/png": "[encoded data removed]",
      "text/plain": [
       "<Figure size 640x480 with 2 Axes>"
      ]
     },
     "metadata": {},
     "output_type": "display_data"
    }
   ],
   "source": [
    "plt.imshow(f_fp[0][0])\n",
    "plt.colorbar()\n",
    "plt.show()\n",
    "\n",
    "plt.imshow(f_fp[2][0])\n",
    "plt.colorbar()\n",
    "plt.show()"
   ]
  },
  {
   "cell_type": "markdown",
   "id": "83a5669b",
   "metadata": {},
   "source": [
    "# Evolve"
   ]
  },
  {
   "cell_type": "code",
   "execution_count": 1033,
   "id": "f61a9054",
   "metadata": {
    "code_folding": []
   },
   "outputs": [],
   "source": [
    "def evolve_PQ(shape,\n",
    "              fa, \n",
    "              init_field, \n",
    "              init_fieldp, \n",
    "              etaini,\n",
    "              deta, \n",
    "              Nstep,\n",
    "              a,\n",
    "              stage,\n",
    "              name=None,\n",
    "              logdir=None,\n",
    "              tolog=[],\n",
    "              flush=100,\n",
    "              debug=False):\n",
    "    \"\"\"\n",
    "    Evolution in the PQ epoch\n",
    "\n",
    "    Inputs\n",
    "               shape : shape of spatial dims\n",
    "                  fa : in units of m_planck\n",
    "          init_field : fn that takes shape and spits out an initial config\n",
    "          init_field : fn that takes shape and spits out an initial config'\n",
    "              etaini : starting eta\n",
    "                deta : d_eta\n",
    "               Nstep : how many steps\n",
    "                name : name of logfile\n",
    "              logdir : where to save logfile\n",
    "               tolog : list containing [(\"name\",lambda f_fp: ..., how often to log this thing, shape of the thing, dtype),...]\n",
    "               flush : how often to flush the logs\n",
    "               debug : whether to print out semi-useless debug statements\n",
    "    \"\"\"\n",
    "    \n",
    "    #gstar = 81\n",
    "    T1 = np.sqrt(45*fa/(4*np.pi**3))*(81)**(-1/4)\n",
    "    c = T1**2/(3*fa**2)\n",
    "    print(f'c:{c}')\n",
    "    print(f'Transition expected at eta = {(5/(4*(np.pi**3)*81))**(1/4)/(fa**(1/2))}')\n",
    "    \n",
    "    if init_field is None:\n",
    "        y_yp = thermal(shape,c,a,etaini,fa)\n",
    "        print(y_yp.shape)\n",
    "    else:\n",
    "        field    = init_field(shape)            #Init field\n",
    "        fieldp   = init_fieldp(shape)           #and its derivative\n",
    "        y_yp     = np.vstack((field,fieldp))    #Stackem\n",
    "        \n",
    "    eta      = etaini                       #initial eta\n",
    "    for i in tqdm.tqdm(range(Nstep)):\n",
    "        if debug:\n",
    "            print(\"running\",i,np.average(np.abs(y_yp)))\n",
    "            time.sleep(1)\n",
    "\n",
    "        if i%flush == 0:\n",
    "            logfile = h5py.File(f'{logdir}/{name}_{i//flush}.hdf5', 'w')\n",
    "            datasets = []\n",
    "            for x in tolog:\n",
    "                datasets.append(logfile.create_dataset(x[0], (flush//x[2]+1,) + x[3], x[4]))\n",
    "\n",
    "        for j,x in enumerate(tolog):\n",
    "            if i%x[2] == 0:\n",
    "                datasets[j][(i%flush)//x[2]] = x[1](y_yp)\n",
    "\n",
    "        if i%flush == flush - 1:\n",
    "            logfile.flush()\n",
    "            logfile.close()\n",
    "        \n",
    "        if stage == 'PQ':\n",
    "            y_yp = RK4(lambda eta,y_yp : \\\n",
    "                        np.vstack((y_yp[2:],PQ_epoch_diff(eta,y_yp[:2],y_yp[2:],c,a,fa,debug=debug))),\n",
    "                   eta,y_yp,deta)\n",
    "        elif stage == 'earlyQCD':\n",
    "            raise NotImplemented\n",
    "        \n",
    "        eta += deta\n",
    "\n",
    "    return "
   ]
  },
  {
   "cell_type": "code",
   "execution_count": null,
   "id": "86be4d46",
   "metadata": {},
   "outputs": [
    {
     "name": "stdout",
     "output_type": "stream",
     "text": [
      "c:0.1343813934716645\n",
      "Transition expected at eta = 0.47232816567123054\n",
      "8.180963807883815 0.01\n",
      "(4, 100, 100, 100)\n"
     ]
    },
    {
     "name": "stderr",
     "output_type": "stream",
     "text": [
      "  6%|█████████▊                                                                                                                                            | 650/10000 [02:11<32:27,  4.80it/s]"
     ]
    }
   ],
   "source": [
    "f.close()\n",
    "evolve_PQ(shape=(100,100,100),\n",
    "          fa=1e-1,\n",
    "          init_field=None,\n",
    "          init_fieldp=None,\n",
    "          etaini=0.01,\n",
    "          deta=0.001,\n",
    "          Nstep=10000,\n",
    "          a=0.25,\n",
    "          stage='PQ',\n",
    "          name='test',\n",
    "          logdir='/Users/joshlin/axion_cosmo/notebooks/misc',\n",
    "          tolog=[(\"field\",lambda f_fp:f_fp,100,(4,100,100,100),np.float64),\n",
    "                 (\"vev\",lambda f_fp:np.average(np.sum(f_fp[:2]**2,axis=0)**(1/2)),1,(1,),np.float64)],\n",
    "         flush=10000,)"
   ]
  },
  {
   "cell_type": "code",
   "execution_count": 1027,
   "id": "1c3f3850",
   "metadata": {
    "collapsed": true
   },
   "outputs": [
    {
     "data": {
      "image/png": "[encoded data removed]",
      "text/plain": [
       "<Figure size 640x480 with 1 Axes>"
      ]
     },
     "metadata": {},
     "output_type": "display_data"
    }
   ],
   "source": [
    "plt.hist(((f['field'][100][0]**2 + f['field'][100][1]**2)**(1/2)).flatten(),bins=100)\n",
    "plt.show()"
   ]
  },
  {
   "cell_type": "code",
   "execution_count": 1035,
   "id": "4e52e77f",
   "metadata": {},
   "outputs": [
    {
     "data": {
      "text/plain": [
       "<matplotlib.lines.Line2D at 0x2871a4c70>"
      ]
     },
     "execution_count": 1035,
     "metadata": {},
     "output_type": "execute_result"
    },
    {
     "data": {
      "image/png": "[encoded data removed]",
      "text/plain": [
       "<Figure size 640x480 with 1 Axes>"
      ]
     },
     "metadata": {},
     "output_type": "display_data"
    }
   ],
   "source": [
    "f = h5py.File('misc/test_0.hdf5','r')\n",
    "plt.plot(f['vev'][:,0])\n",
    "plt.axhline(1)\n",
    "#plt.xlim(0,500)"
   ]
  },
  {
   "cell_type": "code",
   "execution_count": 713,
   "id": "f18b7de6",
   "metadata": {},
   "outputs": [
    {
     "name": "stdout",
     "output_type": "stream",
     "text": [
      "c:0.1343813934716645\n",
      "Transition expected at eta = 3.2992261018615907\n"
     ]
    },
    {
     "name": "stderr",
     "output_type": "stream",
     "text": [
      "100%|████████████████████████████████████████████████████████████████████████████████████████████████████████████████████████████████████████████████████| 2000/2000 [00:00<00:00, 2154.08it/s]\n"
     ]
    }
   ],
   "source": [
    "f.close()\n",
    "evolve_PQ(shape=(10,10,10),\n",
    "          fa=1e-1,\n",
    "          init_field=lambda shape: 1*np.random.random((2,10,10,10))-0.5,\n",
    "          init_fieldp=lambda shape: 1*np.random.random((2,10,10,10))-0.5,\n",
    "          etaini=2,\n",
    "          deta=0.01,\n",
    "          Nstep=2000,\n",
    "          a=0.25,\n",
    "          stage='PQ',\n",
    "          name='test',\n",
    "          logdir='/Users/joshlin/axion_cosmo/notebooks/misc',\n",
    "          tolog=[(\"field\",lambda f_fp:f_fp,1,(4,10,10,10),np.float64),\n",
    "                 (\"vev\",lambda f_fp:np.average(np.sum(f_fp[:2]**2,axis=0)**(1/2)),1,(1,),np.float64)],\n",
    "         flush=2000,)"
   ]
  },
  {
   "cell_type": "markdown",
   "id": "adb14a13",
   "metadata": {},
   "source": [
    "# Evolve Tests"
   ]
  },
  {
   "cell_type": "code",
   "execution_count": 515,
   "id": "749e5313",
   "metadata": {},
   "outputs": [],
   "source": [
    "f = h5py.File('misc/test_0.hdf5','r')"
   ]
  },
  {
   "cell_type": "code",
   "execution_count": 528,
   "id": "69cffa18",
   "metadata": {},
   "outputs": [
    {
     "data": {
      "text/plain": [
       "(300001, 4, 10, 10, 10)"
      ]
     },
     "execution_count": 528,
     "metadata": {},
     "output_type": "execute_result"
    }
   ],
   "source": [
    "f['field'].shape"
   ]
  },
  {
   "cell_type": "code",
   "execution_count": 529,
   "id": "b41f8415",
   "metadata": {},
   "outputs": [
    {
     "data": {
      "text/plain": [
       "(array([ 55.,  59.,  87., 120., 196., 189., 106.,  90.,  60.,  38.]),\n",
       " array([-1.37759108, -1.10278903, -0.82798697, -0.55318492, -0.27838286,\n",
       "        -0.00358081,  0.27122125,  0.5460233 ,  0.82082536,  1.09562741,\n",
       "         1.37042947]),\n",
       " <BarContainer object of 10 artists>)"
      ]
     },
     "execution_count": 529,
     "metadata": {},
     "output_type": "execute_result"
    },
    {
     "data": {
      "image/png": "[encoded data removed]",
      "text/plain": [
       "<Figure size 640x480 with 1 Axes>"
      ]
     },
     "metadata": {},
     "output_type": "display_data"
    }
   ],
   "source": [
    "plt.hist(f['field'][100][0].flatten())"
   ]
  },
  {
   "cell_type": "code",
   "execution_count": 533,
   "id": "52801c9c",
   "metadata": {},
   "outputs": [
    {
     "data": {
      "text/plain": [
       "array([-1.19136060e-04, -1.25610851e-05,  1.05107431e-04,  1.09867966e-04,\n",
       "       -1.04127432e-06, -1.08648902e-04, -9.98233014e-05,  1.38353345e-05,\n",
       "        1.10679030e-04,  8.91680867e-05, -2.57148167e-05, -1.11261885e-04,\n",
       "       -7.80659521e-05,  3.65906413e-05,  1.10475163e-04,  6.66763160e-05,\n",
       "       -4.63909910e-05, -1.08408450e-04, -5.51527171e-05,  5.50611620e-05,\n",
       "        1.05161454e-04,  4.36413156e-05, -6.25632188e-05, -1.00842218e-04,\n",
       "       -3.22795706e-05,  6.88754678e-05,  9.55653273e-05,  2.11950992e-05,\n",
       "       -7.39917674e-05, -8.94501599e-05, -1.05047209e-05,  7.79206908e-05,\n",
       "        8.26191667e-05,  3.13687552e-07, -8.06845615e-05, -7.51962244e-05,\n",
       "        9.28490320e-06,  8.23183810e-05,  6.73050643e-05, -1.82105136e-05,\n",
       "       -8.28686658e-05, -5.90677959e-05,  2.63953973e-05,  8.23922154e-05,\n",
       "        5.06035358e-05, -3.37846639e-05, -8.09548283e-05, -4.20271535e-05,\n",
       "        4.03361848e-05,  7.86299855e-05,  3.34481409e-05, -4.60203522e-05,\n",
       "       -7.54975185e-05, -2.49696134e-05,  5.08197011e-05,  7.16422798e-05,\n",
       "        1.66874448e-05, -5.47284084e-05, -6.71528303e-05, -8.68954122e-06,\n",
       "        5.77516811e-05,  6.21201589e-05,  1.05525193e-06, -5.99050481e-05,\n",
       "       -5.66364490e-05,  6.14508176e-06,  6.12135695e-05,  5.07939016e-05,\n",
       "       -1.28504435e-05, -6.17109781e-05, -4.46836281e-05,  1.90093285e-05,\n",
       "        6.14387664e-05,  3.83946200e-05, -2.45798044e-05, -6.04452349e-05,\n",
       "       -3.20128057e-05,  2.95294547e-05,  5.87845136e-05,  2.56201981e-05,\n",
       "       -3.38352104e-05, -5.65155711e-05, -1.92941396e-05,  3.74830797e-05,\n",
       "        5.37012235e-05,  1.31066473e-05, -4.04677846e-05, -5.04071559e-05,\n",
       "       -7.12386079e-06,  4.27923143e-05,  4.67009654e-05,  1.40559201e-06,\n",
       "       -4.44674048e-05, -4.26512386e-05,  3.99502178e-06,  4.55109573e-05,\n",
       "        3.83266703e-05, -9.03176504e-06, -4.59474034e-05, -3.37952327e-05])"
      ]
     },
     "execution_count": 533,
     "metadata": {},
     "output_type": "execute_result"
    }
   ],
   "source": [
    "f['field'][1000:1100,0,0,0,0]"
   ]
  },
  {
   "cell_type": "code",
   "execution_count": 537,
   "id": "3d0f9151",
   "metadata": {},
   "outputs": [
    {
     "data": {
      "text/plain": [
       "(0.0, 1000.0)"
      ]
     },
     "execution_count": 537,
     "metadata": {},
     "output_type": "execute_result"
    },
    {
     "data": {
      "image/png": "[encoded data removed]",
      "text/plain": [
       "<Figure size 640x480 with 1 Axes>"
      ]
     },
     "metadata": {},
     "output_type": "display_data"
    }
   ],
   "source": [
    "plt.plot(f['field'][:1000,0,0,0,0],alpha=0.5)\n",
    "#plt.plot(f['vev'],alpha=0.5)\n",
    "plt.axhline(1)\n",
    "plt.xlim(0,1000)"
   ]
  },
  {
   "cell_type": "code",
   "execution_count": null,
   "id": "1fc01e03",
   "metadata": {},
   "outputs": [],
   "source": []
  },
  {
   "cell_type": "code",
   "execution_count": 409,
   "id": "fc9ae428",
   "metadata": {},
   "outputs": [
    {
     "data": {
      "text/plain": [
       "<matplotlib.legend.Legend at 0x168057340>"
      ]
     },
     "execution_count": 409,
     "metadata": {},
     "output_type": "execute_result"
    },
    {
     "data": {
      "image/png": "[encoded data removed]",
      "text/plain": [
       "<Figure size 640x480 with 1 Axes>"
      ]
     },
     "metadata": {},
     "output_type": "display_data"
    }
   ],
   "source": [
    "plt.plot(f['field'][:,0,0,0],label='psi1')\n",
    "plt.plot(f['field'][:,1,0,0],label='psi2')\n",
    "#plt.plot(f['field'][:,2,0]/1e3)\n",
    "#plt.plot(f['field'][:,3,0]/1e3)\n",
    "#plt.plot(f['field'][:,0,0]**2 + f['field'][:,1,0]**2,label='norm')\n",
    "plt.legend()\n",
    "#plt.xlim(0,10000)\n",
    "#plt.ylim(-5,5)\n",
    "#plt.ylim(-1,1)\n",
    "#plt.xlim(0,1000)"
   ]
  },
  {
   "cell_type": "code",
   "execution_count": 290,
   "id": "cd95d431",
   "metadata": {},
   "outputs": [],
   "source": [
    "f.close()"
   ]
  },
  {
   "cell_type": "code",
   "execution_count": null,
   "id": "4053cfa6",
   "metadata": {},
   "outputs": [],
   "source": []
  },
  {
   "cell_type": "code",
   "execution_count": 28,
   "id": "3a46ce92",
   "metadata": {},
   "outputs": [],
   "source": [
    "import logging\n",
    "import h5py\n",
    "import matplotlib.pyplot as plt"
   ]
  },
  {
   "cell_type": "code",
   "execution_count": 56,
   "id": "9025f2aa",
   "metadata": {},
   "outputs": [],
   "source": [
    "f = h5py.File('../tests/1_actualPQ/data/PQ_0.hdf5', 'r')"
   ]
  },
  {
   "cell_type": "code",
   "execution_count": 62,
   "id": "e053e00d",
   "metadata": {},
   "outputs": [],
   "source": [
    "f.close()"
   ]
  },
  {
   "cell_type": "code",
   "execution_count": 57,
   "id": "90e684ef",
   "metadata": {},
   "outputs": [
    {
     "data": {
      "text/plain": [
       "<KeysViewHDF5 ['absav', 'av', 'field']>"
      ]
     },
     "execution_count": 57,
     "metadata": {},
     "output_type": "execute_result"
    }
   ],
   "source": [
    "f.keys()"
   ]
  },
  {
   "cell_type": "code",
   "execution_count": 58,
   "id": "b477791a",
   "metadata": {},
   "outputs": [
    {
     "data": {
      "text/plain": [
       "(11, 4, 10, 10, 10)"
      ]
     },
     "execution_count": 58,
     "metadata": {},
     "output_type": "execute_result"
    }
   ],
   "source": [
    "f['field'].shape"
   ]
  },
  {
   "cell_type": "code",
   "execution_count": 61,
   "id": "27302cf9",
   "metadata": {},
   "outputs": [
    {
     "data": {
      "text/plain": [
       "array([[[0.00069949, 0.00069949, 0.00069949, 0.00069949, 0.00069949,\n",
       "         0.00069949, 0.00069949, 0.00069949, 0.00069949, 0.00069949],\n",
       "        [0.00069949, 0.00069949, 0.00069949, 0.00069949, 0.00069949,\n",
       "         0.00069949, 0.00069949, 0.00069949, 0.00069949, 0.00069949],\n",
       "        [0.00069949, 0.00069949, 0.00069949, 0.00069949, 0.00069949,\n",
       "         0.00069949, 0.00069949, 0.00069949, 0.00069949, 0.00069949],\n",
       "        [0.00069949, 0.00069949, 0.00069949, 0.00069949, 0.00069949,\n",
       "         0.00069949, 0.00069949, 0.00069949, 0.00069949, 0.00069949],\n",
       "        [0.00069949, 0.00069949, 0.00069949, 0.00069949, 0.00069949,\n",
       "         0.00069949, 0.00069949, 0.00069949, 0.00069949, 0.00069949],\n",
       "        [0.00069949, 0.00069949, 0.00069949, 0.00069949, 0.00069949,\n",
       "         0.00069949, 0.00069949, 0.00069949, 0.00069949, 0.00069949],\n",
       "        [0.00069949, 0.00069949, 0.00069949, 0.00069949, 0.00069949,\n",
       "         0.00069949, 0.00069949, 0.00069949, 0.00069949, 0.00069949],\n",
       "        [0.00069949, 0.00069949, 0.00069949, 0.00069949, 0.00069949,\n",
       "         0.00069949, 0.00069949, 0.00069949, 0.00069949, 0.00069949],\n",
       "        [0.00069949, 0.00069949, 0.00069949, 0.00069949, 0.00069949,\n",
       "         0.00069949, 0.00069949, 0.00069949, 0.00069949, 0.00069949],\n",
       "        [0.00069949, 0.00069949, 0.00069949, 0.00069949, 0.00069949,\n",
       "         0.00069949, 0.00069949, 0.00069949, 0.00069949, 0.00069949]],\n",
       "\n",
       "       [[0.00069949, 0.00069949, 0.00069949, 0.00069949, 0.00069949,\n",
       "         0.00069949, 0.00069949, 0.00069949, 0.00069949, 0.00069949],\n",
       "        [0.00069949, 0.00069949, 0.00069949, 0.00069949, 0.00069949,\n",
       "         0.00069949, 0.00069949, 0.00069949, 0.00069949, 0.00069949],\n",
       "        [0.00069949, 0.00069949, 0.00069949, 0.00069949, 0.00069949,\n",
       "         0.00069949, 0.00069949, 0.00069949, 0.00069949, 0.00069949],\n",
       "        [0.00069949, 0.00069949, 0.00069949, 0.00069949, 0.00069949,\n",
       "         0.00069949, 0.00069949, 0.00069949, 0.00069949, 0.00069949],\n",
       "        [0.00069949, 0.00069949, 0.00069949, 0.00069949, 0.00069949,\n",
       "         0.00069949, 0.00069949, 0.00069949, 0.00069949, 0.00069949],\n",
       "        [0.00069949, 0.00069949, 0.00069949, 0.00069949, 0.00069949,\n",
       "         0.00069949, 0.00069949, 0.00069949, 0.00069949, 0.00069949],\n",
       "        [0.00069949, 0.00069949, 0.00069949, 0.00069949, 0.00069949,\n",
       "         0.00069949, 0.00069949, 0.00069949, 0.00069949, 0.00069949],\n",
       "        [0.00069949, 0.00069949, 0.00069949, 0.00069949, 0.00069949,\n",
       "         0.00069949, 0.00069949, 0.00069949, 0.00069949, 0.00069949],\n",
       "        [0.00069949, 0.00069949, 0.00069949, 0.00069949, 0.00069949,\n",
       "         0.00069949, 0.00069949, 0.00069949, 0.00069949, 0.00069949],\n",
       "        [0.00069949, 0.00069949, 0.00069949, 0.00069949, 0.00069949,\n",
       "         0.00069949, 0.00069949, 0.00069949, 0.00069949, 0.00069949]],\n",
       "\n",
       "       [[0.00069949, 0.00069949, 0.00069949, 0.00069949, 0.00069949,\n",
       "         0.00069949, 0.00069949, 0.00069949, 0.00069949, 0.00069949],\n",
       "        [0.00069949, 0.00069949, 0.00069949, 0.00069949, 0.00069949,\n",
       "         0.00069949, 0.00069949, 0.00069949, 0.00069949, 0.00069949],\n",
       "        [0.00069949, 0.00069949, 0.00069949, 0.00069949, 0.00069949,\n",
       "         0.00069949, 0.00069949, 0.00069949, 0.00069949, 0.00069949],\n",
       "        [0.00069949, 0.00069949, 0.00069949, 0.00069949, 0.00069949,\n",
       "         0.00069949, 0.00069949, 0.00069949, 0.00069949, 0.00069949],\n",
       "        [0.00069949, 0.00069949, 0.00069949, 0.00069949, 0.00069949,\n",
       "         0.00069949, 0.00069949, 0.00069949, 0.00069949, 0.00069949],\n",
       "        [0.00069949, 0.00069949, 0.00069949, 0.00069949, 0.00069949,\n",
       "         0.00069949, 0.00069949, 0.00069949, 0.00069949, 0.00069949],\n",
       "        [0.00069949, 0.00069949, 0.00069949, 0.00069949, 0.00069949,\n",
       "         0.00069949, 0.00069949, 0.00069949, 0.00069949, 0.00069949],\n",
       "        [0.00069949, 0.00069949, 0.00069949, 0.00069949, 0.00069949,\n",
       "         0.00069949, 0.00069949, 0.00069949, 0.00069949, 0.00069949],\n",
       "        [0.00069949, 0.00069949, 0.00069949, 0.00069949, 0.00069949,\n",
       "         0.00069949, 0.00069949, 0.00069949, 0.00069949, 0.00069949],\n",
       "        [0.00069949, 0.00069949, 0.00069949, 0.00069949, 0.00069949,\n",
       "         0.00069949, 0.00069949, 0.00069949, 0.00069949, 0.00069949]],\n",
       "\n",
       "       [[0.00069949, 0.00069949, 0.00069949, 0.00069949, 0.00069949,\n",
       "         0.00069949, 0.00069949, 0.00069949, 0.00069949, 0.00069949],\n",
       "        [0.00069949, 0.00069949, 0.00069949, 0.00069949, 0.00069949,\n",
       "         0.00069949, 0.00069949, 0.00069949, 0.00069949, 0.00069949],\n",
       "        [0.00069949, 0.00069949, 0.00069949, 0.00069949, 0.00069949,\n",
       "         0.00069949, 0.00069949, 0.00069949, 0.00069949, 0.00069949],\n",
       "        [0.00069949, 0.00069949, 0.00069949, 0.00069949, 0.00069949,\n",
       "         0.00069949, 0.00069949, 0.00069949, 0.00069949, 0.00069949],\n",
       "        [0.00069949, 0.00069949, 0.00069949, 0.00069949, 0.00069949,\n",
       "         0.00069949, 0.00069949, 0.00069949, 0.00069949, 0.00069949],\n",
       "        [0.00069949, 0.00069949, 0.00069949, 0.00069949, 0.00069949,\n",
       "         0.00069949, 0.00069949, 0.00069949, 0.00069949, 0.00069949],\n",
       "        [0.00069949, 0.00069949, 0.00069949, 0.00069949, 0.00069949,\n",
       "         0.00069949, 0.00069949, 0.00069949, 0.00069949, 0.00069949],\n",
       "        [0.00069949, 0.00069949, 0.00069949, 0.00069949, 0.00069949,\n",
       "         0.00069949, 0.00069949, 0.00069949, 0.00069949, 0.00069949],\n",
       "        [0.00069949, 0.00069949, 0.00069949, 0.00069949, 0.00069949,\n",
       "         0.00069949, 0.00069949, 0.00069949, 0.00069949, 0.00069949],\n",
       "        [0.00069949, 0.00069949, 0.00069949, 0.00069949, 0.00069949,\n",
       "         0.00069949, 0.00069949, 0.00069949, 0.00069949, 0.00069949]],\n",
       "\n",
       "       [[0.00069949, 0.00069949, 0.00069949, 0.00069949, 0.00069949,\n",
       "         0.00069949, 0.00069949, 0.00069949, 0.00069949, 0.00069949],\n",
       "        [0.00069949, 0.00069949, 0.00069949, 0.00069949, 0.00069949,\n",
       "         0.00069949, 0.00069949, 0.00069949, 0.00069949, 0.00069949],\n",
       "        [0.00069949, 0.00069949, 0.00069949, 0.00069949, 0.00069949,\n",
       "         0.00069949, 0.00069949, 0.00069949, 0.00069949, 0.00069949],\n",
       "        [0.00069949, 0.00069949, 0.00069949, 0.00069949, 0.00069949,\n",
       "         0.00069949, 0.00069949, 0.00069949, 0.00069949, 0.00069949],\n",
       "        [0.00069949, 0.00069949, 0.00069949, 0.00069949, 0.00069949,\n",
       "         0.00069949, 0.00069949, 0.00069949, 0.00069949, 0.00069949],\n",
       "        [0.00069949, 0.00069949, 0.00069949, 0.00069949, 0.00069949,\n",
       "         0.00069949, 0.00069949, 0.00069949, 0.00069949, 0.00069949],\n",
       "        [0.00069949, 0.00069949, 0.00069949, 0.00069949, 0.00069949,\n",
       "         0.00069949, 0.00069949, 0.00069949, 0.00069949, 0.00069949],\n",
       "        [0.00069949, 0.00069949, 0.00069949, 0.00069949, 0.00069949,\n",
       "         0.00069949, 0.00069949, 0.00069949, 0.00069949, 0.00069949],\n",
       "        [0.00069949, 0.00069949, 0.00069949, 0.00069949, 0.00069949,\n",
       "         0.00069949, 0.00069949, 0.00069949, 0.00069949, 0.00069949],\n",
       "        [0.00069949, 0.00069949, 0.00069949, 0.00069949, 0.00069949,\n",
       "         0.00069949, 0.00069949, 0.00069949, 0.00069949, 0.00069949]],\n",
       "\n",
       "       [[0.00069949, 0.00069949, 0.00069949, 0.00069949, 0.00069949,\n",
       "         0.00069949, 0.00069949, 0.00069949, 0.00069949, 0.00069949],\n",
       "        [0.00069949, 0.00069949, 0.00069949, 0.00069949, 0.00069949,\n",
       "         0.00069949, 0.00069949, 0.00069949, 0.00069949, 0.00069949],\n",
       "        [0.00069949, 0.00069949, 0.00069949, 0.00069949, 0.00069949,\n",
       "         0.00069949, 0.00069949, 0.00069949, 0.00069949, 0.00069949],\n",
       "        [0.00069949, 0.00069949, 0.00069949, 0.00069949, 0.00069949,\n",
       "         0.00069949, 0.00069949, 0.00069949, 0.00069949, 0.00069949],\n",
       "        [0.00069949, 0.00069949, 0.00069949, 0.00069949, 0.00069949,\n",
       "         0.00069949, 0.00069949, 0.00069949, 0.00069949, 0.00069949],\n",
       "        [0.00069949, 0.00069949, 0.00069949, 0.00069949, 0.00069949,\n",
       "         0.00069949, 0.00069949, 0.00069949, 0.00069949, 0.00069949],\n",
       "        [0.00069949, 0.00069949, 0.00069949, 0.00069949, 0.00069949,\n",
       "         0.00069949, 0.00069949, 0.00069949, 0.00069949, 0.00069949],\n",
       "        [0.00069949, 0.00069949, 0.00069949, 0.00069949, 0.00069949,\n",
       "         0.00069949, 0.00069949, 0.00069949, 0.00069949, 0.00069949],\n",
       "        [0.00069949, 0.00069949, 0.00069949, 0.00069949, 0.00069949,\n",
       "         0.00069949, 0.00069949, 0.00069949, 0.00069949, 0.00069949],\n",
       "        [0.00069949, 0.00069949, 0.00069949, 0.00069949, 0.00069949,\n",
       "         0.00069949, 0.00069949, 0.00069949, 0.00069949, 0.00069949]],\n",
       "\n",
       "       [[0.00069949, 0.00069949, 0.00069949, 0.00069949, 0.00069949,\n",
       "         0.00069949, 0.00069949, 0.00069949, 0.00069949, 0.00069949],\n",
       "        [0.00069949, 0.00069949, 0.00069949, 0.00069949, 0.00069949,\n",
       "         0.00069949, 0.00069949, 0.00069949, 0.00069949, 0.00069949],\n",
       "        [0.00069949, 0.00069949, 0.00069949, 0.00069949, 0.00069949,\n",
       "         0.00069949, 0.00069949, 0.00069949, 0.00069949, 0.00069949],\n",
       "        [0.00069949, 0.00069949, 0.00069949, 0.00069949, 0.00069949,\n",
       "         0.00069949, 0.00069949, 0.00069949, 0.00069949, 0.00069949],\n",
       "        [0.00069949, 0.00069949, 0.00069949, 0.00069949, 0.00069949,\n",
       "         0.00069949, 0.00069949, 0.00069949, 0.00069949, 0.00069949],\n",
       "        [0.00069949, 0.00069949, 0.00069949, 0.00069949, 0.00069949,\n",
       "         0.00069949, 0.00069949, 0.00069949, 0.00069949, 0.00069949],\n",
       "        [0.00069949, 0.00069949, 0.00069949, 0.00069949, 0.00069949,\n",
       "         0.00069949, 0.00069949, 0.00069949, 0.00069949, 0.00069949],\n",
       "        [0.00069949, 0.00069949, 0.00069949, 0.00069949, 0.00069949,\n",
       "         0.00069949, 0.00069949, 0.00069949, 0.00069949, 0.00069949],\n",
       "        [0.00069949, 0.00069949, 0.00069949, 0.00069949, 0.00069949,\n",
       "         0.00069949, 0.00069949, 0.00069949, 0.00069949, 0.00069949],\n",
       "        [0.00069949, 0.00069949, 0.00069949, 0.00069949, 0.00069949,\n",
       "         0.00069949, 0.00069949, 0.00069949, 0.00069949, 0.00069949]],\n",
       "\n",
       "       [[0.00069949, 0.00069949, 0.00069949, 0.00069949, 0.00069949,\n",
       "         0.00069949, 0.00069949, 0.00069949, 0.00069949, 0.00069949],\n",
       "        [0.00069949, 0.00069949, 0.00069949, 0.00069949, 0.00069949,\n",
       "         0.00069949, 0.00069949, 0.00069949, 0.00069949, 0.00069949],\n",
       "        [0.00069949, 0.00069949, 0.00069949, 0.00069949, 0.00069949,\n",
       "         0.00069949, 0.00069949, 0.00069949, 0.00069949, 0.00069949],\n",
       "        [0.00069949, 0.00069949, 0.00069949, 0.00069949, 0.00069949,\n",
       "         0.00069949, 0.00069949, 0.00069949, 0.00069949, 0.00069949],\n",
       "        [0.00069949, 0.00069949, 0.00069949, 0.00069949, 0.00069949,\n",
       "         0.00069949, 0.00069949, 0.00069949, 0.00069949, 0.00069949],\n",
       "        [0.00069949, 0.00069949, 0.00069949, 0.00069949, 0.00069949,\n",
       "         0.00069949, 0.00069949, 0.00069949, 0.00069949, 0.00069949],\n",
       "        [0.00069949, 0.00069949, 0.00069949, 0.00069949, 0.00069949,\n",
       "         0.00069949, 0.00069949, 0.00069949, 0.00069949, 0.00069949],\n",
       "        [0.00069949, 0.00069949, 0.00069949, 0.00069949, 0.00069949,\n",
       "         0.00069949, 0.00069949, 0.00069949, 0.00069949, 0.00069949],\n",
       "        [0.00069949, 0.00069949, 0.00069949, 0.00069949, 0.00069949,\n",
       "         0.00069949, 0.00069949, 0.00069949, 0.00069949, 0.00069949],\n",
       "        [0.00069949, 0.00069949, 0.00069949, 0.00069949, 0.00069949,\n",
       "         0.00069949, 0.00069949, 0.00069949, 0.00069949, 0.00069949]],\n",
       "\n",
       "       [[0.00069949, 0.00069949, 0.00069949, 0.00069949, 0.00069949,\n",
       "         0.00069949, 0.00069949, 0.00069949, 0.00069949, 0.00069949],\n",
       "        [0.00069949, 0.00069949, 0.00069949, 0.00069949, 0.00069949,\n",
       "         0.00069949, 0.00069949, 0.00069949, 0.00069949, 0.00069949],\n",
       "        [0.00069949, 0.00069949, 0.00069949, 0.00069949, 0.00069949,\n",
       "         0.00069949, 0.00069949, 0.00069949, 0.00069949, 0.00069949],\n",
       "        [0.00069949, 0.00069949, 0.00069949, 0.00069949, 0.00069949,\n",
       "         0.00069949, 0.00069949, 0.00069949, 0.00069949, 0.00069949],\n",
       "        [0.00069949, 0.00069949, 0.00069949, 0.00069949, 0.00069949,\n",
       "         0.00069949, 0.00069949, 0.00069949, 0.00069949, 0.00069949],\n",
       "        [0.00069949, 0.00069949, 0.00069949, 0.00069949, 0.00069949,\n",
       "         0.00069949, 0.00069949, 0.00069949, 0.00069949, 0.00069949],\n",
       "        [0.00069949, 0.00069949, 0.00069949, 0.00069949, 0.00069949,\n",
       "         0.00069949, 0.00069949, 0.00069949, 0.00069949, 0.00069949],\n",
       "        [0.00069949, 0.00069949, 0.00069949, 0.00069949, 0.00069949,\n",
       "         0.00069949, 0.00069949, 0.00069949, 0.00069949, 0.00069949],\n",
       "        [0.00069949, 0.00069949, 0.00069949, 0.00069949, 0.00069949,\n",
       "         0.00069949, 0.00069949, 0.00069949, 0.00069949, 0.00069949],\n",
       "        [0.00069949, 0.00069949, 0.00069949, 0.00069949, 0.00069949,\n",
       "         0.00069949, 0.00069949, 0.00069949, 0.00069949, 0.00069949]],\n",
       "\n",
       "       [[0.00069949, 0.00069949, 0.00069949, 0.00069949, 0.00069949,\n",
       "         0.00069949, 0.00069949, 0.00069949, 0.00069949, 0.00069949],\n",
       "        [0.00069949, 0.00069949, 0.00069949, 0.00069949, 0.00069949,\n",
       "         0.00069949, 0.00069949, 0.00069949, 0.00069949, 0.00069949],\n",
       "        [0.00069949, 0.00069949, 0.00069949, 0.00069949, 0.00069949,\n",
       "         0.00069949, 0.00069949, 0.00069949, 0.00069949, 0.00069949],\n",
       "        [0.00069949, 0.00069949, 0.00069949, 0.00069949, 0.00069949,\n",
       "         0.00069949, 0.00069949, 0.00069949, 0.00069949, 0.00069949],\n",
       "        [0.00069949, 0.00069949, 0.00069949, 0.00069949, 0.00069949,\n",
       "         0.00069949, 0.00069949, 0.00069949, 0.00069949, 0.00069949],\n",
       "        [0.00069949, 0.00069949, 0.00069949, 0.00069949, 0.00069949,\n",
       "         0.00069949, 0.00069949, 0.00069949, 0.00069949, 0.00069949],\n",
       "        [0.00069949, 0.00069949, 0.00069949, 0.00069949, 0.00069949,\n",
       "         0.00069949, 0.00069949, 0.00069949, 0.00069949, 0.00069949],\n",
       "        [0.00069949, 0.00069949, 0.00069949, 0.00069949, 0.00069949,\n",
       "         0.00069949, 0.00069949, 0.00069949, 0.00069949, 0.00069949],\n",
       "        [0.00069949, 0.00069949, 0.00069949, 0.00069949, 0.00069949,\n",
       "         0.00069949, 0.00069949, 0.00069949, 0.00069949, 0.00069949],\n",
       "        [0.00069949, 0.00069949, 0.00069949, 0.00069949, 0.00069949,\n",
       "         0.00069949, 0.00069949, 0.00069949, 0.00069949, 0.00069949]]])"
      ]
     },
     "execution_count": 61,
     "metadata": {},
     "output_type": "execute_result"
    }
   ],
   "source": [
    "f['field'][1,0,:,:,:]"
   ]
  },
  {
   "cell_type": "code",
   "execution_count": 37,
   "id": "004f11a9",
   "metadata": {},
   "outputs": [
    {
     "data": {
      "text/plain": [
       "<KeysViewHDF5 ['absav', 'av', 'field']>"
      ]
     },
     "execution_count": 37,
     "metadata": {},
     "output_type": "execute_result"
    }
   ],
   "source": [
    "f.keys()"
   ]
  },
  {
   "cell_type": "code",
   "execution_count": 30,
   "id": "292a1dd0",
   "metadata": {},
   "outputs": [
    {
     "data": {
      "text/plain": [
       "(100001, 4)"
      ]
     },
     "execution_count": 30,
     "metadata": {},
     "output_type": "execute_result"
    }
   ],
   "source": [
    "f['absav'].shape"
   ]
  },
  {
   "cell_type": "code",
   "execution_count": 42,
   "id": "ea9d54be",
   "metadata": {},
   "outputs": [
    {
     "data": {
      "text/plain": [
       "(-2.0, 2.0)"
      ]
     },
     "execution_count": 42,
     "metadata": {},
     "output_type": "execute_result"
    },
    {
     "data": {
      "image/png": "[encoded data removed]",
      "text/plain": [
       "<Figure size 640x480 with 1 Axes>"
      ]
     },
     "metadata": {},
     "output_type": "display_data"
    }
   ],
   "source": [
    "plt.plot(f['absav'][:,:])\n",
    "plt.ylim(-2,2)"
   ]
  },
  {
   "cell_type": "code",
   "execution_count": 14,
   "id": "ec772ba5",
   "metadata": {},
   "outputs": [],
   "source": [
    "logging.basicConfig(filename='test')"
   ]
  },
  {
   "cell_type": "code",
   "execution_count": null,
   "id": "a591c649",
   "metadata": {},
   "outputs": [],
   "source": [
    "logging."
   ]
  },
  {
   "cell_type": "code",
   "execution_count": 2,
   "id": "5e54c57a",
   "metadata": {},
   "outputs": [],
   "source": [
    "import pickle"
   ]
  },
  {
   "cell_type": "code",
   "execution_count": 3,
   "id": "5a2d2745",
   "metadata": {},
   "outputs": [],
   "source": [
    "x = pickle.load(open('../tests/1_actualPQ/data/point','rb'))"
   ]
  },
  {
   "cell_type": "code",
   "execution_count": 10,
   "id": "f98a6542",
   "metadata": {},
   "outputs": [
    {
     "data": {
      "text/plain": [
       "(array([[[[-0.00018167, -0.00018167, -0.00018167, ..., -0.00018167,\n",
       "           -0.00018167, -0.00018167],\n",
       "          [-0.00018167, -0.00018167, -0.00018167, ..., -0.00018167,\n",
       "           -0.00018167, -0.00018167],\n",
       "          [-0.00018167, -0.00018167, -0.00018167, ..., -0.00018167,\n",
       "           -0.00018167, -0.00018167],\n",
       "          ...,\n",
       "          [-0.00018167, -0.00018167, -0.00018167, ..., -0.00018167,\n",
       "           -0.00018167, -0.00018167],\n",
       "          [-0.00018167, -0.00018167, -0.00018167, ..., -0.00018167,\n",
       "           -0.00018167, -0.00018167],\n",
       "          [-0.00018167, -0.00018167, -0.00018167, ..., -0.00018167,\n",
       "           -0.00018167, -0.00018167]],\n",
       " \n",
       "         [[-0.00018167, -0.00018167, -0.00018167, ..., -0.00018167,\n",
       "           -0.00018167, -0.00018167],\n",
       "          [-0.00018167, -0.00018167, -0.00018167, ..., -0.00018167,\n",
       "           -0.00018167, -0.00018167],\n",
       "          [-0.00018167, -0.00018167, -0.00018167, ..., -0.00018167,\n",
       "           -0.00018167, -0.00018167],\n",
       "          ...,\n",
       "          [-0.00018167, -0.00018167, -0.00018167, ..., -0.00018167,\n",
       "           -0.00018167, -0.00018167],\n",
       "          [-0.00018167, -0.00018167, -0.00018167, ..., -0.00018167,\n",
       "           -0.00018167, -0.00018167],\n",
       "          [-0.00018167, -0.00018167, -0.00018167, ..., -0.00018167,\n",
       "           -0.00018167, -0.00018167]],\n",
       " \n",
       "         [[-0.00018167, -0.00018167, -0.00018167, ..., -0.00018167,\n",
       "           -0.00018167, -0.00018167],\n",
       "          [-0.00018167, -0.00018167, -0.00018167, ..., -0.00018167,\n",
       "           -0.00018167, -0.00018167],\n",
       "          [-0.00018167, -0.00018167, -0.00018167, ..., -0.00018167,\n",
       "           -0.00018167, -0.00018167],\n",
       "          ...,\n",
       "          [-0.00018167, -0.00018167, -0.00018167, ..., -0.00018167,\n",
       "           -0.00018167, -0.00018167],\n",
       "          [-0.00018167, -0.00018167, -0.00018167, ..., -0.00018167,\n",
       "           -0.00018167, -0.00018167],\n",
       "          [-0.00018167, -0.00018167, -0.00018167, ..., -0.00018167,\n",
       "           -0.00018167, -0.00018167]],\n",
       " \n",
       "         ...,\n",
       " \n",
       "         [[-0.00018167, -0.00018167, -0.00018167, ..., -0.00018167,\n",
       "           -0.00018167, -0.00018167],\n",
       "          [-0.00018167, -0.00018167, -0.00018167, ..., -0.00018167,\n",
       "           -0.00018167, -0.00018167],\n",
       "          [-0.00018167, -0.00018167, -0.00018167, ..., -0.00018167,\n",
       "           -0.00018167, -0.00018167],\n",
       "          ...,\n",
       "          [-0.00018167, -0.00018167, -0.00018167, ..., -0.00018167,\n",
       "           -0.00018167, -0.00018167],\n",
       "          [-0.00018167, -0.00018167, -0.00018167, ..., -0.00018167,\n",
       "           -0.00018167, -0.00018167],\n",
       "          [-0.00018167, -0.00018167, -0.00018167, ..., -0.00018167,\n",
       "           -0.00018167, -0.00018167]],\n",
       " \n",
       "         [[-0.00018167, -0.00018167, -0.00018167, ..., -0.00018167,\n",
       "           -0.00018167, -0.00018167],\n",
       "          [-0.00018167, -0.00018167, -0.00018167, ..., -0.00018167,\n",
       "           -0.00018167, -0.00018167],\n",
       "          [-0.00018167, -0.00018167, -0.00018167, ..., -0.00018167,\n",
       "           -0.00018167, -0.00018167],\n",
       "          ...,\n",
       "          [-0.00018167, -0.00018167, -0.00018167, ..., -0.00018167,\n",
       "           -0.00018167, -0.00018167],\n",
       "          [-0.00018167, -0.00018167, -0.00018167, ..., -0.00018167,\n",
       "           -0.00018167, -0.00018167],\n",
       "          [-0.00018167, -0.00018167, -0.00018167, ..., -0.00018167,\n",
       "           -0.00018167, -0.00018167]],\n",
       " \n",
       "         [[-0.00018167, -0.00018167, -0.00018167, ..., -0.00018167,\n",
       "           -0.00018167, -0.00018167],\n",
       "          [-0.00018167, -0.00018167, -0.00018167, ..., -0.00018167,\n",
       "           -0.00018167, -0.00018167],\n",
       "          [-0.00018167, -0.00018167, -0.00018167, ..., -0.00018167,\n",
       "           -0.00018167, -0.00018167],\n",
       "          ...,\n",
       "          [-0.00018167, -0.00018167, -0.00018167, ..., -0.00018167,\n",
       "           -0.00018167, -0.00018167],\n",
       "          [-0.00018167, -0.00018167, -0.00018167, ..., -0.00018167,\n",
       "           -0.00018167, -0.00018167],\n",
       "          [-0.00018167, -0.00018167, -0.00018167, ..., -0.00018167,\n",
       "           -0.00018167, -0.00018167]]],\n",
       " \n",
       " \n",
       "        [[[-0.00018167, -0.00018167, -0.00018167, ..., -0.00018167,\n",
       "           -0.00018167, -0.00018167],\n",
       "          [-0.00018167, -0.00018167, -0.00018167, ..., -0.00018167,\n",
       "           -0.00018167, -0.00018167],\n",
       "          [-0.00018167, -0.00018167, -0.00018167, ..., -0.00018167,\n",
       "           -0.00018167, -0.00018167],\n",
       "          ...,\n",
       "          [-0.00018167, -0.00018167, -0.00018167, ..., -0.00018167,\n",
       "           -0.00018167, -0.00018167],\n",
       "          [-0.00018167, -0.00018167, -0.00018167, ..., -0.00018167,\n",
       "           -0.00018167, -0.00018167],\n",
       "          [-0.00018167, -0.00018167, -0.00018167, ..., -0.00018167,\n",
       "           -0.00018167, -0.00018167]],\n",
       " \n",
       "         [[-0.00018167, -0.00018167, -0.00018167, ..., -0.00018167,\n",
       "           -0.00018167, -0.00018167],\n",
       "          [-0.00018167, -0.00018167, -0.00018167, ..., -0.00018167,\n",
       "           -0.00018167, -0.00018167],\n",
       "          [-0.00018167, -0.00018167, -0.00018167, ..., -0.00018167,\n",
       "           -0.00018167, -0.00018167],\n",
       "          ...,\n",
       "          [-0.00018167, -0.00018167, -0.00018167, ..., -0.00018167,\n",
       "           -0.00018167, -0.00018167],\n",
       "          [-0.00018167, -0.00018167, -0.00018167, ..., -0.00018167,\n",
       "           -0.00018167, -0.00018167],\n",
       "          [-0.00018167, -0.00018167, -0.00018167, ..., -0.00018167,\n",
       "           -0.00018167, -0.00018167]],\n",
       " \n",
       "         [[-0.00018167, -0.00018167, -0.00018167, ..., -0.00018167,\n",
       "           -0.00018167, -0.00018167],\n",
       "          [-0.00018167, -0.00018167, -0.00018167, ..., -0.00018167,\n",
       "           -0.00018167, -0.00018167],\n",
       "          [-0.00018167, -0.00018167, -0.00018167, ..., -0.00018167,\n",
       "           -0.00018167, -0.00018167],\n",
       "          ...,\n",
       "          [-0.00018167, -0.00018167, -0.00018167, ..., -0.00018167,\n",
       "           -0.00018167, -0.00018167],\n",
       "          [-0.00018167, -0.00018167, -0.00018167, ..., -0.00018167,\n",
       "           -0.00018167, -0.00018167],\n",
       "          [-0.00018167, -0.00018167, -0.00018167, ..., -0.00018167,\n",
       "           -0.00018167, -0.00018167]],\n",
       " \n",
       "         ...,\n",
       " \n",
       "         [[-0.00018167, -0.00018167, -0.00018167, ..., -0.00018167,\n",
       "           -0.00018167, -0.00018167],\n",
       "          [-0.00018167, -0.00018167, -0.00018167, ..., -0.00018167,\n",
       "           -0.00018167, -0.00018167],\n",
       "          [-0.00018167, -0.00018167, -0.00018167, ..., -0.00018167,\n",
       "           -0.00018167, -0.00018167],\n",
       "          ...,\n",
       "          [-0.00018167, -0.00018167, -0.00018167, ..., -0.00018167,\n",
       "           -0.00018167, -0.00018167],\n",
       "          [-0.00018167, -0.00018167, -0.00018167, ..., -0.00018167,\n",
       "           -0.00018167, -0.00018167],\n",
       "          [-0.00018167, -0.00018167, -0.00018167, ..., -0.00018167,\n",
       "           -0.00018167, -0.00018167]],\n",
       " \n",
       "         [[-0.00018167, -0.00018167, -0.00018167, ..., -0.00018167,\n",
       "           -0.00018167, -0.00018167],\n",
       "          [-0.00018167, -0.00018167, -0.00018167, ..., -0.00018167,\n",
       "           -0.00018167, -0.00018167],\n",
       "          [-0.00018167, -0.00018167, -0.00018167, ..., -0.00018167,\n",
       "           -0.00018167, -0.00018167],\n",
       "          ...,\n",
       "          [-0.00018167, -0.00018167, -0.00018167, ..., -0.00018167,\n",
       "           -0.00018167, -0.00018167],\n",
       "          [-0.00018167, -0.00018167, -0.00018167, ..., -0.00018167,\n",
       "           -0.00018167, -0.00018167],\n",
       "          [-0.00018167, -0.00018167, -0.00018167, ..., -0.00018167,\n",
       "           -0.00018167, -0.00018167]],\n",
       " \n",
       "         [[-0.00018167, -0.00018167, -0.00018167, ..., -0.00018167,\n",
       "           -0.00018167, -0.00018167],\n",
       "          [-0.00018167, -0.00018167, -0.00018167, ..., -0.00018167,\n",
       "           -0.00018167, -0.00018167],\n",
       "          [-0.00018167, -0.00018167, -0.00018167, ..., -0.00018167,\n",
       "           -0.00018167, -0.00018167],\n",
       "          ...,\n",
       "          [-0.00018167, -0.00018167, -0.00018167, ..., -0.00018167,\n",
       "           -0.00018167, -0.00018167],\n",
       "          [-0.00018167, -0.00018167, -0.00018167, ..., -0.00018167,\n",
       "           -0.00018167, -0.00018167],\n",
       "          [-0.00018167, -0.00018167, -0.00018167, ..., -0.00018167,\n",
       "           -0.00018167, -0.00018167]]]]),\n",
       " array([[[[-0.02570611, -0.02570611, -0.02570611, ..., -0.02570611,\n",
       "           -0.02570611, -0.02570611],\n",
       "          [-0.02570611, -0.02570611, -0.02570611, ..., -0.02570611,\n",
       "           -0.02570611, -0.02570611],\n",
       "          [-0.02570611, -0.02570611, -0.02570611, ..., -0.02570611,\n",
       "           -0.02570611, -0.02570611],\n",
       "          ...,\n",
       "          [-0.02570611, -0.02570611, -0.02570611, ..., -0.02570611,\n",
       "           -0.02570611, -0.02570611],\n",
       "          [-0.02570611, -0.02570611, -0.02570611, ..., -0.02570611,\n",
       "           -0.02570611, -0.02570611],\n",
       "          [-0.02570611, -0.02570611, -0.02570611, ..., -0.02570611,\n",
       "           -0.02570611, -0.02570611]],\n",
       " \n",
       "         [[-0.02570611, -0.02570611, -0.02570611, ..., -0.02570611,\n",
       "           -0.02570611, -0.02570611],\n",
       "          [-0.02570611, -0.02570611, -0.02570611, ..., -0.02570611,\n",
       "           -0.02570611, -0.02570611],\n",
       "          [-0.02570611, -0.02570611, -0.02570611, ..., -0.02570611,\n",
       "           -0.02570611, -0.02570611],\n",
       "          ...,\n",
       "          [-0.02570611, -0.02570611, -0.02570611, ..., -0.02570611,\n",
       "           -0.02570611, -0.02570611],\n",
       "          [-0.02570611, -0.02570611, -0.02570611, ..., -0.02570611,\n",
       "           -0.02570611, -0.02570611],\n",
       "          [-0.02570611, -0.02570611, -0.02570611, ..., -0.02570611,\n",
       "           -0.02570611, -0.02570611]],\n",
       " \n",
       "         [[-0.02570611, -0.02570611, -0.02570611, ..., -0.02570611,\n",
       "           -0.02570611, -0.02570611],\n",
       "          [-0.02570611, -0.02570611, -0.02570611, ..., -0.02570611,\n",
       "           -0.02570611, -0.02570611],\n",
       "          [-0.02570611, -0.02570611, -0.02570611, ..., -0.02570611,\n",
       "           -0.02570611, -0.02570611],\n",
       "          ...,\n",
       "          [-0.02570611, -0.02570611, -0.02570611, ..., -0.02570611,\n",
       "           -0.02570611, -0.02570611],\n",
       "          [-0.02570611, -0.02570611, -0.02570611, ..., -0.02570611,\n",
       "           -0.02570611, -0.02570611],\n",
       "          [-0.02570611, -0.02570611, -0.02570611, ..., -0.02570611,\n",
       "           -0.02570611, -0.02570611]],\n",
       " \n",
       "         ...,\n",
       " \n",
       "         [[-0.02570611, -0.02570611, -0.02570611, ..., -0.02570611,\n",
       "           -0.02570611, -0.02570611],\n",
       "          [-0.02570611, -0.02570611, -0.02570611, ..., -0.02570611,\n",
       "           -0.02570611, -0.02570611],\n",
       "          [-0.02570611, -0.02570611, -0.02570611, ..., -0.02570611,\n",
       "           -0.02570611, -0.02570611],\n",
       "          ...,\n",
       "          [-0.02570611, -0.02570611, -0.02570611, ..., -0.02570611,\n",
       "           -0.02570611, -0.02570611],\n",
       "          [-0.02570611, -0.02570611, -0.02570611, ..., -0.02570611,\n",
       "           -0.02570611, -0.02570611],\n",
       "          [-0.02570611, -0.02570611, -0.02570611, ..., -0.02570611,\n",
       "           -0.02570611, -0.02570611]],\n",
       " \n",
       "         [[-0.02570611, -0.02570611, -0.02570611, ..., -0.02570611,\n",
       "           -0.02570611, -0.02570611],\n",
       "          [-0.02570611, -0.02570611, -0.02570611, ..., -0.02570611,\n",
       "           -0.02570611, -0.02570611],\n",
       "          [-0.02570611, -0.02570611, -0.02570611, ..., -0.02570611,\n",
       "           -0.02570611, -0.02570611],\n",
       "          ...,\n",
       "          [-0.02570611, -0.02570611, -0.02570611, ..., -0.02570611,\n",
       "           -0.02570611, -0.02570611],\n",
       "          [-0.02570611, -0.02570611, -0.02570611, ..., -0.02570611,\n",
       "           -0.02570611, -0.02570611],\n",
       "          [-0.02570611, -0.02570611, -0.02570611, ..., -0.02570611,\n",
       "           -0.02570611, -0.02570611]],\n",
       " \n",
       "         [[-0.02570611, -0.02570611, -0.02570611, ..., -0.02570611,\n",
       "           -0.02570611, -0.02570611],\n",
       "          [-0.02570611, -0.02570611, -0.02570611, ..., -0.02570611,\n",
       "           -0.02570611, -0.02570611],\n",
       "          [-0.02570611, -0.02570611, -0.02570611, ..., -0.02570611,\n",
       "           -0.02570611, -0.02570611],\n",
       "          ...,\n",
       "          [-0.02570611, -0.02570611, -0.02570611, ..., -0.02570611,\n",
       "           -0.02570611, -0.02570611],\n",
       "          [-0.02570611, -0.02570611, -0.02570611, ..., -0.02570611,\n",
       "           -0.02570611, -0.02570611],\n",
       "          [-0.02570611, -0.02570611, -0.02570611, ..., -0.02570611,\n",
       "           -0.02570611, -0.02570611]]],\n",
       " \n",
       " \n",
       "        [[[-0.02570611, -0.02570611, -0.02570611, ..., -0.02570611,\n",
       "           -0.02570611, -0.02570611],\n",
       "          [-0.02570611, -0.02570611, -0.02570611, ..., -0.02570611,\n",
       "           -0.02570611, -0.02570611],\n",
       "          [-0.02570611, -0.02570611, -0.02570611, ..., -0.02570611,\n",
       "           -0.02570611, -0.02570611],\n",
       "          ...,\n",
       "          [-0.02570611, -0.02570611, -0.02570611, ..., -0.02570611,\n",
       "           -0.02570611, -0.02570611],\n",
       "          [-0.02570611, -0.02570611, -0.02570611, ..., -0.02570611,\n",
       "           -0.02570611, -0.02570611],\n",
       "          [-0.02570611, -0.02570611, -0.02570611, ..., -0.02570611,\n",
       "           -0.02570611, -0.02570611]],\n",
       " \n",
       "         [[-0.02570611, -0.02570611, -0.02570611, ..., -0.02570611,\n",
       "           -0.02570611, -0.02570611],\n",
       "          [-0.02570611, -0.02570611, -0.02570611, ..., -0.02570611,\n",
       "           -0.02570611, -0.02570611],\n",
       "          [-0.02570611, -0.02570611, -0.02570611, ..., -0.02570611,\n",
       "           -0.02570611, -0.02570611],\n",
       "          ...,\n",
       "          [-0.02570611, -0.02570611, -0.02570611, ..., -0.02570611,\n",
       "           -0.02570611, -0.02570611],\n",
       "          [-0.02570611, -0.02570611, -0.02570611, ..., -0.02570611,\n",
       "           -0.02570611, -0.02570611],\n",
       "          [-0.02570611, -0.02570611, -0.02570611, ..., -0.02570611,\n",
       "           -0.02570611, -0.02570611]],\n",
       " \n",
       "         [[-0.02570611, -0.02570611, -0.02570611, ..., -0.02570611,\n",
       "           -0.02570611, -0.02570611],\n",
       "          [-0.02570611, -0.02570611, -0.02570611, ..., -0.02570611,\n",
       "           -0.02570611, -0.02570611],\n",
       "          [-0.02570611, -0.02570611, -0.02570611, ..., -0.02570611,\n",
       "           -0.02570611, -0.02570611],\n",
       "          ...,\n",
       "          [-0.02570611, -0.02570611, -0.02570611, ..., -0.02570611,\n",
       "           -0.02570611, -0.02570611],\n",
       "          [-0.02570611, -0.02570611, -0.02570611, ..., -0.02570611,\n",
       "           -0.02570611, -0.02570611],\n",
       "          [-0.02570611, -0.02570611, -0.02570611, ..., -0.02570611,\n",
       "           -0.02570611, -0.02570611]],\n",
       " \n",
       "         ...,\n",
       " \n",
       "         [[-0.02570611, -0.02570611, -0.02570611, ..., -0.02570611,\n",
       "           -0.02570611, -0.02570611],\n",
       "          [-0.02570611, -0.02570611, -0.02570611, ..., -0.02570611,\n",
       "           -0.02570611, -0.02570611],\n",
       "          [-0.02570611, -0.02570611, -0.02570611, ..., -0.02570611,\n",
       "           -0.02570611, -0.02570611],\n",
       "          ...,\n",
       "          [-0.02570611, -0.02570611, -0.02570611, ..., -0.02570611,\n",
       "           -0.02570611, -0.02570611],\n",
       "          [-0.02570611, -0.02570611, -0.02570611, ..., -0.02570611,\n",
       "           -0.02570611, -0.02570611],\n",
       "          [-0.02570611, -0.02570611, -0.02570611, ..., -0.02570611,\n",
       "           -0.02570611, -0.02570611]],\n",
       " \n",
       "         [[-0.02570611, -0.02570611, -0.02570611, ..., -0.02570611,\n",
       "           -0.02570611, -0.02570611],\n",
       "          [-0.02570611, -0.02570611, -0.02570611, ..., -0.02570611,\n",
       "           -0.02570611, -0.02570611],\n",
       "          [-0.02570611, -0.02570611, -0.02570611, ..., -0.02570611,\n",
       "           -0.02570611, -0.02570611],\n",
       "          ...,\n",
       "          [-0.02570611, -0.02570611, -0.02570611, ..., -0.02570611,\n",
       "           -0.02570611, -0.02570611],\n",
       "          [-0.02570611, -0.02570611, -0.02570611, ..., -0.02570611,\n",
       "           -0.02570611, -0.02570611],\n",
       "          [-0.02570611, -0.02570611, -0.02570611, ..., -0.02570611,\n",
       "           -0.02570611, -0.02570611]],\n",
       " \n",
       "         [[-0.02570611, -0.02570611, -0.02570611, ..., -0.02570611,\n",
       "           -0.02570611, -0.02570611],\n",
       "          [-0.02570611, -0.02570611, -0.02570611, ..., -0.02570611,\n",
       "           -0.02570611, -0.02570611],\n",
       "          [-0.02570611, -0.02570611, -0.02570611, ..., -0.02570611,\n",
       "           -0.02570611, -0.02570611],\n",
       "          ...,\n",
       "          [-0.02570611, -0.02570611, -0.02570611, ..., -0.02570611,\n",
       "           -0.02570611, -0.02570611],\n",
       "          [-0.02570611, -0.02570611, -0.02570611, ..., -0.02570611,\n",
       "           -0.02570611, -0.02570611],\n",
       "          [-0.02570611, -0.02570611, -0.02570611, ..., -0.02570611,\n",
       "           -0.02570611, -0.02570611]]]]))"
      ]
     },
     "execution_count": 10,
     "metadata": {},
     "output_type": "execute_result"
    }
   ],
   "source": [
    "x['field'][-1]"
   ]
  },
  {
   "cell_type": "markdown",
   "id": "0988e5a8",
   "metadata": {},
   "source": [
    "# Garbage"
   ]
  },
  {
   "cell_type": "code",
   "execution_count": null,
   "id": "01aa1d2e",
   "metadata": {
    "code_folding": [
     0,
     4,
     16
    ]
   },
   "outputs": [],
   "source": [
    "def dummy_thermal(shape,eps=0.1):\n",
    "    assert type(shape) is tuple\n",
    "    return 2*eps*np.random.random((2,) + shape) - eps\n",
    "\n",
    "def stand_dev_phi(ksq,V,T,fa):\n",
    "    '''\n",
    "    wrapper function to compute standard deviation of the field given wave number k\n",
    "    taking lambda to 1 as mentioned in the paper\n",
    "    '''\n",
    "\n",
    "    meff2 = T**2 / 3. - fa**2\n",
    "    omegak = np.sqrt(ksq + meff2)\n",
    "    nk = 1./(np.exp(omegak/T) - 1)\n",
    "\n",
    "    return nk / omegak * V\n",
    "\n",
    "def stand_dev_phidot(ksq,V,T,fa):\n",
    "    '''\n",
    "    wrapper function to compute standard deviation of the time derivative of the field given wave number k\n",
    "    taking lambda to 1 as mentioned in the paper\n",
    "    '''\n",
    "    meff2 = T**2 / 3. - fa**2\n",
    "    omegak = np.sqrt(ksq + meff2)\n",
    "    nk = 1./(np.exp(omegak/T) - 1)\n",
    "\n",
    "    return nk * omegak * V"
   ]
  },
  {
   "cell_type": "code",
   "execution_count": 600,
   "id": "7585241a",
   "metadata": {
    "code_folding": [
     0,
     6,
     12,
     18
    ]
   },
   "outputs": [],
   "source": [
    "def t(eta,t1):\n",
    "    \"\"\"\n",
    "    (S6)\n",
    "    \"\"\"\n",
    "    return (eta**2)*(t1)\n",
    "\n",
    "def t_T(gstar,T):\n",
    "    \"\"\"\n",
    "    (S45)\n",
    "    \"\"\"\n",
    "    return 0.3012*(gstar**(-1/2))*1.220890e22/(T**2)\n",
    "\n",
    "def T(gstar,t):\n",
    "    \"\"\"\n",
    "    S(45)\n",
    "    \"\"\"\n",
    "    return (0.3012*(gstar**(-1/2))*1.220890e22/t)**(1/2)\n",
    "\n",
    "def init_params(fa,gstar):\n",
    "    \"\"\"\n",
    "    these ARENT where you initialize, these are at eta = 1\n",
    "    \"\"\"\n",
    "    T1_PQ = (fa*1.220890e22/(1.660*(gstar**(1/2))))**(1/2)\n",
    "    H1_PQ = H(gstar,T1_PQ)\n",
    "    R1_PQ = R(gstar,T1_PQ)\n",
    "    t1_PQ = t_T(gstar,T1_PQ)\n",
    "    \n",
    "    #mpi = 139.570\n",
    "    #fpi = 130\n",
    "    #mu = 2.2; md = 4.7;\n",
    "    #ma = ((mpi**2*fpi**2)/fa**2)*((mu*md)/(mu+md)**2)\n",
    "    ma = 5.707e3/fa\n",
    "    \n",
    "    Tc     = (1.68e-7*((400)**(4+6.68))/((fa**2*ma**2)))**(1/6.68)\n",
    "    T1_QCD = (((1.68e-7)**(1/2)*(400)**(2+6.68/2)*1.220890e22)/(fa*1.660*gstar**(1/2)))**(1/(2+6.68/2))\n",
    "    R1_QCD = R(gstar,T1_QCD)\n",
    "    etac   = R(gstar,Tc)/R1_QCD\n",
    "    \n",
    "    return T1_PQ,H1_PQ,R1_PQ,t1_PQ,ma,Tc,T1_QCD,R1_QCD,etac"
   ]
  },
  {
   "cell_type": "code",
   "execution_count": null,
   "id": "c17e2bba",
   "metadata": {},
   "outputs": [],
   "source": []
  },
  {
   "cell_type": "code",
   "execution_count": null,
   "id": "ccfc1fd0",
   "metadata": {},
   "outputs": [],
   "source": []
  }
 ],
 "metadata": {
  "kernelspec": {
   "display_name": "Python 3 (ipykernel)",
   "language": "python",
   "name": "python3"
  },
  "language_info": {
   "codemirror_mode": {
    "name": "ipython",
    "version": 3
   },
   "file_extension": ".py",
   "mimetype": "text/x-python",
   "name": "python",
   "nbconvert_exporter": "python",
   "pygments_lexer": "ipython3",
   "version": "3.9.12"
  }
 },
 "nbformat": 4,
 "nbformat_minor": 5
}
